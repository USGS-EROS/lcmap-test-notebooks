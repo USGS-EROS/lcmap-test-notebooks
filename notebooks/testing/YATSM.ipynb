{
 "cells": [
  {
   "cell_type": "code",
   "execution_count": 95,
   "metadata": {
    "collapsed": true
   },
   "outputs": [],
   "source": [
    "from yatsm.yatsm import YATSM\n",
    "import numpy as np"
   ]
  },
  {
   "cell_type": "markdown",
   "metadata": {},
   "source": [
    "## Time\n",
    "\n",
    "Time, the independent variable, is a list of dates that correspond to spectra, the dependent variable. These values are contrived for now until I understand exactly what type of data YATSM expects. I'm pretty sure YATSM wants an ordinal date..."
   ]
  },
  {
   "cell_type": "code",
   "execution_count": 96,
   "metadata": {
    "collapsed": false
   },
   "outputs": [
    {
     "data": {
      "text/plain": [
       "(63,)"
      ]
     },
     "execution_count": 96,
     "metadata": {},
     "output_type": "execute_result"
    }
   ],
   "source": [
    "r = np.arange(0, 1000, 16) # 16 day interval from 0 to 1000\n",
    "t = np.vstack([r,r,r,r,r,r])\n",
    "t[0].shape"
   ]
  },
  {
   "cell_type": "markdown",
   "metadata": {},
   "source": [
    "## Spectra\n",
    "\n",
    "Spectra, the dependent variable, is a list of Landsat observations. The number of spectra \"rows\" must match the number of times. Each row contains a number of columns that correspond to measured value of each band. I'm still not sure what YATSM expects the band order to be. Let's contrive some values for each of the days we listed above."
   ]
  },
  {
   "cell_type": "code",
   "execution_count": 97,
   "metadata": {
    "collapsed": false
   },
   "outputs": [],
   "source": [
    "# let's pretend this is some measure of from some landsat band\n",
    "pretend_band_1 = np.array(map(np.sin, map(np.radians, r))) * 50 + 200\n",
    "pretend_band_2 = np.array(map(np.sin, map(np.radians, r))) * 80 + 160\n",
    "pretend_band_3 = np.array(map(np.sin, map(np.radians, r))) * 10 + 180\n",
    "pretend_band_4 = np.array(map(np.sin, map(np.radians, r))) * 25 + 185\n",
    "pretend_band_5 = np.array(map(np.sin, map(np.radians, r+10))) * 35 + 183\n",
    "pretend_band_6 = np.array(map(np.sin, map(np.radians, r-10))) * 35 + 183\n",
    "b = np.vstack([pretend_band_1, pretend_band_2, pretend_band_3, pretend_band_4, pretend_band_5, pretend_band_6])"
   ]
  },
  {
   "cell_type": "markdown",
   "metadata": {},
   "source": [
    "## YATSM!\n",
    "\n",
    "Now, let's try applying the YATSM algorithm to the pretend data."
   ]
  },
  {
   "cell_type": "code",
   "execution_count": 92,
   "metadata": {
    "collapsed": false
   },
   "outputs": [
    {
     "data": {
      "text/plain": [
       "array([ (176, 560, 576, [[133.22042846679688, 53.152687072753906, 166.60806274414062, 151.61021423339844, 137.3809051513672, 136.42697143554688], [0.0, 0.0, 0.0, 0.0, 0.0, 0.0], [0.0, 0.0, 0.0, 0.0, 0.0, 0.0], [0.0, 0.0, 0.0, 0.0, 0.0, 0.0], [0.0, 0.0, 0.03601936250925064, 0.0, 0.12107587605714798, 0.0], [0.0, 0.0, 0.0, 0.0, 0.0, 0.0]], [26.564559936523438, 42.5032958984375, 5.3129119873046875, 13.282279968261719, 19.235427856445312, 18.439247131347656], 0, 0, [-0.7605286836624146, -1.2168458700180054, -0.15210573375225067, -0.3802643418312073, -0.546038031578064, -0.5025261640548706])], \n",
       "      dtype=[('start', '<i4'), ('end', '<i4'), ('break', '<i4'), ('coef', '<f4', (6, 6)), ('rmse', '<f4', (6,)), ('px', '<u2'), ('py', '<u2'), ('magnitude', '<f4', (6,))])"
      ]
     },
     "execution_count": 92,
     "metadata": {},
     "output_type": "execute_result"
    }
   ],
   "source": [
    "consecutive  = 5      # (int): Consecutive observations to trigger change\n",
    "threshold    = 1.0    # (float): Test statistic threshold for change\n",
    "min_obs      = 16     # (int): Minimum observations in model\n",
    "min_rmse     = 100    # (float): Minimum RMSE for models during testing\n",
    "retrain_time = 365.25 # (float): Number of days between model fit updates during monitoring period\n",
    "screening    = 'RLM' # (str): Style of prescreening of the timeseries for noise. Options are 'RLM' or 'LOWESS'\n",
    "\n",
    "fit_indices  = np.array([0])   # (ndarray): Indices of Y to fit models for\n",
    "test_indices = np.array([0])   # (ndarray): Indices of Y to test for change with\n",
    "lassocv      = True\n",
    "\n",
    "example = YATSM(X=t.T, Y=b,\n",
    "                consecutive=consecutive, threshold=threshold,\n",
    "                min_obs=min_obs, min_rmse=min_rmse,\n",
    "                retrain_time=retrain_time, screening=screening,\n",
    "                lassocv=lassocv)\n",
    "\n",
    "example.run()\n",
    "example.record"
   ]
  },
  {
   "cell_type": "markdown",
   "metadata": {},
   "source": [
    "## Pictures"
   ]
  },
  {
   "cell_type": "code",
   "execution_count": 93,
   "metadata": {
    "collapsed": false
   },
   "outputs": [],
   "source": [
    "%matplotlib inline\n",
    "import matplotlib.pyplot as plt\n",
    "plt.style.available\n",
    "plt.style.use('ggplot')"
   ]
  },
  {
   "cell_type": "code",
   "execution_count": 94,
   "metadata": {
    "collapsed": false
   },
   "outputs": [
    {
     "data": {
      "text/plain": [
       "[<matplotlib.lines.Line2D at 0x7f9acc4c5f10>]"
      ]
     },
     "execution_count": 94,
     "metadata": {},
     "output_type": "execute_result"
    },
    {
     "data": {
      "image/png": "[encoded data removed]",
      "text/plain": [
       "<matplotlib.figure.Figure at 0x7f9acc912350>"
      ]
     },
     "metadata": {},
     "output_type": "display_data"
    }
   ],
   "source": [
    "fg = plt.figure(figsize=(16,9), dpi=300)\n",
    "a1 = fg.add_subplot(2, 1, 1, xlim=(-45,1050), ylim=(0,300) )\n",
    "a1.plot(t[0], pretend_band_1, 'r+')\n",
    "a1.plot(t[1], pretend_band_2, 'g+')\n",
    "a1.plot(t[2], pretend_band_3, 'b+')\n",
    "a1.plot(t[3], pretend_band_4, 'y+')\n",
    "\n",
    "# a1 = fg.add_subplot(3, 2, 2, xlim =(-40,400), ylim=(100,300) )\n"
   ]
  }
 ],
 "metadata": {
  "kernelspec": {
   "display_name": "Python 2",
   "language": "python",
   "name": "python2"
  },
  "language_info": {
   "codemirror_mode": {
    "name": "ipython",
    "version": 2
   },
   "file_extension": ".py",
   "mimetype": "text/x-python",
   "name": "python",
   "nbconvert_exporter": "python",
   "pygments_lexer": "ipython2",
   "version": "2.7.10"
  }
 },
 "nbformat": 4,
 "nbformat_minor": 0
}
