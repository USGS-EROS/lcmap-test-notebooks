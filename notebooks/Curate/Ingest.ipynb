{
 "cells": [
  {
   "cell_type": "markdown",
   "metadata": {
    "deletable": true,
    "editable": true
   },
   "source": [
    "## Ingesting Data\n",
    "\n",
    "Ingest is the process of transforming ARD tiles into smaller chips of data. To trigger ingest, you HTTP PUT a `source` to the Aardvark REST API that contains the URL of the data and a checksum used verify its integrity."
   ]
  },
  {
   "cell_type": "code",
   "execution_count": 16,
   "metadata": {
    "collapsed": false,
    "deletable": true,
    "editable": true
   },
   "outputs": [],
   "source": [
    "import requests\n",
    "import io\n",
    "import string"
   ]
  },
  {
   "cell_type": "markdown",
   "metadata": {
    "deletable": true,
    "editable": true
   },
   "source": [
    "## Building a Collection of Sources\n",
    "\n",
    "ARD tiles are organized by individual area using an HXXVXX nomenclature. The directory should contain text file with one or more lines that have an ID, a URL, and a checksum for each archive in a directory. The entries in a manifest are transformed into a collection of dictionaries using the `get_manifest` and `put_source` functions."
   ]
  },
  {
   "cell_type": "code",
   "execution_count": 17,
   "metadata": {
    "collapsed": true,
    "deletable": true,
    "editable": true
   },
   "outputs": [],
   "source": [
    "def source(base_url, line):\n",
    "    \"\"\"Transform a line into a dict with source attributes\"\"\"\n",
    "    checksum, file = line.split(\"\\t\")\n",
    "    file_url = base_url + file.strip()\n",
    "    return {'id': file.strip(), 'uri': file_url, 'checksum': checksum }\n",
    "\n",
    "def get_manifest(manifest_url, base_url):\n",
    "    \"\"\"Get a manifest and transform it into a list of source dicts\"\"\"\n",
    "    res = requests.get(manifest_url)\n",
    "    buffer = io.StringIO(res.text)\n",
    "    return [source(base_url, line) for line in buffer]\n",
    "\n",
    "def put_source(base_url, source):\n",
    "    \"\"\"Put a source, triggering ingest\"\"\"\n",
    "    url = base_url.format(**source)\n",
    "    return requests.put(url, source)"
   ]
  },
  {
   "cell_type": "markdown",
   "metadata": {
    "deletable": true,
    "editable": true
   },
   "source": [
    "The `get_manifest` and `put_source` function are used together to trigger ingest. Change the URL to the manifest and URL to the Aardvark REST API as needed."
   ]
  },
  {
   "cell_type": "code",
   "execution_count": 18,
   "metadata": {
    "collapsed": false,
    "deletable": true,
    "editable": true
   },
   "outputs": [],
   "source": [
    "# This is a text file that contains a checksum and file name on each line.\n",
    "manifest_url = \"https://edclpdsftp.cr.usgs.gov/downloads/collections/tiles-l2-20170427/h04v03/h04v03.md5_list\"\n",
    "\n",
    "# This is the URL that can be used with each file name to produce an absolute URL\n",
    "# to the archive. The system that performs ingest needs the full URL so that it\n",
    "# can download data.\n",
    "base_url = \"https://edclpdsftp.cr.usgs.gov/downloads/collections/tiles-l2-20170427/h04v03/\"\n",
    "\n",
    "# Produce a list of sources.\n",
    "sources = get_manifest(manifest_url, base_url)"
   ]
  },
  {
   "cell_type": "markdown",
   "metadata": {
    "deletable": true,
    "editable": true
   },
   "source": [
    "Now, you can iterate over each source to trigger ingest. This makes a single HTTP PUT request for each item, so you may have to be patient when you are putting thousands of sources."
   ]
  },
  {
   "cell_type": "code",
   "execution_count": 20,
   "metadata": {
    "collapsed": false,
    "deletable": true,
    "editable": true
   },
   "outputs": [],
   "source": [
    "# This is the URL to the network resource used to trigger ingest. Notice that you\n",
    "# are defining a new network resource for the source you want to ingest.\n",
    "SOURCE_URL = \"http://lcmap-test.cr.usgs.gov/v1/landsat/source/{id}\"\n",
    "\n",
    "# This is commented out so that you don't make a large number of requests\n",
    "# accidentally, if you actually want to trigger ingest then uncomment it\n",
    "# and evaluate this cell.\n",
    "# results = [put_source(SOURCE_URL, source) for source in sources]"
   ]
  },
  {
   "cell_type": "markdown",
   "metadata": {
    "deletable": true,
    "editable": true
   },
   "source": [
    "## Checking Progress\n",
    "\n",
    "The progress of ingest for a single scene can be obtained by performing an HTTP GET request. The response contains a list of `progress` entries sorted from oldest to newest that describe what has happened so far. You can use the last entry to count the number of missing/pending/started/finished/failed sources."
   ]
  },
  {
   "cell_type": "code",
   "execution_count": 21,
   "metadata": {
    "collapsed": true,
    "deletable": true,
    "editable": true
   },
   "outputs": [],
   "source": [
    "def get_source(base_url, source):\n",
    "    \"\"\"Get progress information about the source.\"\"\"\n",
    "    url = base_url.format(**source)\n",
    "    return requests.get(url, source)"
   ]
  },
  {
   "cell_type": "code",
   "execution_count": 22,
   "metadata": {
    "collapsed": false,
    "deletable": true,
    "editable": true
   },
   "outputs": [],
   "source": [
    "# This is commented out so that you don't make a large number of requests\n",
    "# accidentally. If you want to get a large number of sources, uncomment the\n",
    "# line and evaluate the cell. For large lists, this can take a while!\n",
    "saved_sources = [get_source(SOURCE_URL, source) for source in sources]"
   ]
  },
  {
   "cell_type": "markdown",
   "metadata": {
    "deletable": true,
    "editable": true
   },
   "source": [
    "The `saved_sources` contains a list of HTTP responses that will need to converted from JSON into something usable."
   ]
  },
  {
   "cell_type": "code",
   "execution_count": 23,
   "metadata": {
    "collapsed": false,
    "deletable": true,
    "editable": true
   },
   "outputs": [],
   "source": [
    "progress = [progress.json() for progress in saved_sources]"
   ]
  },
  {
   "cell_type": "markdown",
   "metadata": {
    "deletable": true,
    "editable": true
   },
   "source": [
    "You can list the most recent activity for the first ten sources like so..."
   ]
  },
  {
   "cell_type": "code",
   "execution_count": 25,
   "metadata": {
    "collapsed": false,
    "deletable": true,
    "editable": true
   },
   "outputs": [
    {
     "data": {
      "text/plain": [
       "[('LC08_CU_004003_20130320_20170426_C01_V01_BT.tar', 'scene-finish'),\n",
       " ('LC08_CU_004003_20130320_20170426_C01_V01_QA.tar', 'scene-finish'),\n",
       " ('LC08_CU_004003_20130320_20170426_C01_V01_SR.tar', 'scene-finish'),\n",
       " ('LC08_CU_004003_20130320_20170426_C01_V01_TA.tar', 'scene-finish'),\n",
       " ('LC08_CU_004003_20130325_20170426_C01_V01_BT.tar', 'scene-finish'),\n",
       " ('LC08_CU_004003_20130325_20170426_C01_V01_QA.tar', 'scene-finish'),\n",
       " ('LC08_CU_004003_20130325_20170426_C01_V01_SR.tar', 'scene-finish'),\n",
       " ('LC08_CU_004003_20130325_20170426_C01_V01_TA.tar', 'scene-finish'),\n",
       " ('LC08_CU_004003_20130404_20170426_C01_V01_BT.tar', 'scene-finish'),\n",
       " ('LC08_CU_004003_20130404_20170426_C01_V01_QA.tar', 'scene-finish')]"
      ]
     },
     "execution_count": 25,
     "metadata": {},
     "output_type": "execute_result"
    }
   ],
   "source": [
    "some_progress = [p for p in progress if p]\n",
    "source_last_activity = [(ps[-1]['id'], ps[-1]['progress_name']) for ps in some_progress]\n",
    "source_last_activity[0:10]"
   ]
  },
  {
   "cell_type": "code",
   "execution_count": null,
   "metadata": {
    "collapsed": true,
    "deletable": true,
    "editable": true
   },
   "outputs": [],
   "source": []
  },
  {
   "cell_type": "markdown",
   "metadata": {
    "deletable": true,
    "editable": true
   },
   "source": [
    "## Retrieve Ingested Data\n",
    "\n",
    "Once you have ingested sources, you may also want to verify that you are able to obtain results. You will specify an x/y, UBID, and ISO8601 time range."
   ]
  },
  {
   "cell_type": "code",
   "execution_count": 163,
   "metadata": {
    "collapsed": true,
    "deletable": true,
    "editable": true
   },
   "outputs": [],
   "source": [
    "# Notice that the x/y is slightly offset from the tile; this is done intentionally\n",
    "# to confirm that the REST API properly finds the correct tile containing the point.\n",
    "x, y, ubid, acquired = -1806583, 2999803, \"LANDSAT_7/ETM/SRB2\", '1980-01-01/2020-01-01'\n",
    "params = {'ubid': ubid, 'x': x, 'y': y, 'acquired': acquired}\n",
    "chips = requests.get(\"http://lcmap-test.cr.usgs.gov/v1/landsat/chips\", params).json()"
   ]
  },
  {
   "cell_type": "markdown",
   "metadata": {
    "deletable": true,
    "editable": true
   },
   "source": [
    "Once you have retrieved chips, you can check the acquisition date and source. To work with chip data, see the related tutorial."
   ]
  },
  {
   "cell_type": "code",
   "execution_count": 164,
   "metadata": {
    "collapsed": false,
    "deletable": true,
    "editable": true
   },
   "outputs": [
    {
     "data": {
      "text/plain": [
       "[(-1806585, 2999805, '1999-07-14T18:41:52Z'),\n",
       " (-1806585, 2999805, '1999-07-30T18:41:57Z'),\n",
       " (-1806585, 2999805, '1999-08-15T18:41:56Z'),\n",
       " (-1806585, 2999805, '1999-08-31T18:42:01Z'),\n",
       " (-1806585, 2999805, '1999-09-16T18:41:54Z'),\n",
       " (-1806585, 2999805, '1999-10-02T18:42:06Z'),\n",
       " (-1806585, 2999805, '1999-10-18T18:41:59Z'),\n",
       " (-1806585, 2999805, '1999-11-03T18:41:56Z'),\n",
       " (-1806585, 2999805, '1999-12-21T18:41:58Z'),\n",
       " (-1806585, 2999805, '2000-01-22T18:41:52Z')]"
      ]
     },
     "execution_count": 164,
     "metadata": {},
     "output_type": "execute_result"
    }
   ],
   "source": [
    "[(c['x'],c['y'],c['acquired']) for c in chips[0:10]]"
   ]
  }
 ],
 "metadata": {
  "kernelspec": {
   "display_name": "Python 3",
   "language": "python",
   "name": "python3"
  },
  "language_info": {
   "codemirror_mode": {
    "name": "ipython",
    "version": 3
   },
   "file_extension": ".py",
   "mimetype": "text/x-python",
   "name": "python",
   "nbconvert_exporter": "python",
   "pygments_lexer": "ipython3",
   "version": "3.6.0"
  }
 },
 "nbformat": 4,
 "nbformat_minor": 2
}
