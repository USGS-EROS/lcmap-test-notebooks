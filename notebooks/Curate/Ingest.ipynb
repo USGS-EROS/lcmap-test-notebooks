{
 "cells": [
  {
   "cell_type": "markdown",
   "metadata": {},
   "source": [
    "## Ingesting Data\n",
    "\n",
    "Ingest is the process of transforming ARD tiles into smaller chips of data. To trigger ingest, you HTTP PUT a `source` to the Aardvark REST API that contains the URL of the data and a checksum to verify its integrity."
   ]
  },
  {
   "cell_type": "code",
   "execution_count": 117,
   "metadata": {
    "collapsed": false
   },
   "outputs": [],
   "source": [
    "import requests\n",
    "import io\n",
    "import string"
   ]
  },
  {
   "cell_type": "markdown",
   "metadata": {},
   "source": [
    "## Building a Collection of Sources\n",
    "\n",
    "ARD tiles are organized by individual area using an HXXVXX nomenclature. The directory should contain text file named `manifest.txt` with one or more lines that have an ID, a URL, and a checksum for an archive. The entries in a manifest are transformed into a collection of dictionaries using the `get_manifest` function."
   ]
  },
  {
   "cell_type": "code",
   "execution_count": 118,
   "metadata": {
    "collapsed": true
   },
   "outputs": [],
   "source": [
    "def source(line):\n",
    "    id, uri, checksum = line.split(\"\\t\")\n",
    "    return {'id': id, 'uri': uri, 'checksum': checksum.strip() }\n",
    "\n",
    "def get_manifest(url):\n",
    "    res = requests.get(url)\n",
    "    buffer = io.StringIO(res.text)\n",
    "    return [source(line) for line in buffer]\n",
    "\n",
    "def put_source(base_url, source):\n",
    "    url = base_url.format(**source)\n",
    "    return requests.put(url, source)"
   ]
  },
  {
   "cell_type": "markdown",
   "metadata": {},
   "source": [
    "## Ingesting Sources\n",
    "\n",
    "The `get_manifest` and `put_source` function are used together to trigger ingest. You will need to change the URL to the manifest and URL to the Aardvark REST API."
   ]
  },
  {
   "cell_type": "code",
   "execution_count": 120,
   "metadata": {
    "collapsed": false
   },
   "outputs": [],
   "source": [
    "manifest_url = \"https://edclpdsftp.cr.usgs.gov/downloads/collections/tiles-l2-20170403/manifest.txt\"\n",
    "sources = get_manifest(manifest)\n",
    "source_url = \"http://localhost:5678/source/{id}\"\n",
    "res = put_source(source_url, sources[0])"
   ]
  },
  {
   "cell_type": "markdown",
   "metadata": {},
   "source": [
    "## Checking Progress\n",
    "\n",
    "The progress of ingest for a single scene can be obtained by performing an HTTP GET request using the URL of the derived source. The response contains a list of `progress` entries sorted from oldest to newest that describe what has happened. You can use these to count the number of missing/pending/started/finished/failed sources."
   ]
  },
  {
   "cell_type": "code",
   "execution_count": 121,
   "metadata": {
    "collapsed": true
   },
   "outputs": [],
   "source": [
    "def get_source(base_url, source):\n",
    "    url = base_url.format(**source)\n",
    "    return requests.get(url, source)"
   ]
  },
  {
   "cell_type": "code",
   "execution_count": 125,
   "metadata": {
    "collapsed": true
   },
   "outputs": [],
   "source": [
    "res = get_source(base_url, sources[22])"
   ]
  }
 ],
 "metadata": {
  "kernelspec": {
   "display_name": "Python 3",
   "language": "python",
   "name": "python3"
  },
  "language_info": {
   "codemirror_mode": {
    "name": "ipython",
    "version": 3
   },
   "file_extension": ".py",
   "mimetype": "text/x-python",
   "name": "python",
   "nbconvert_exporter": "python",
   "pygments_lexer": "ipython3",
   "version": "3.5.1"
  }
 },
 "nbformat": 4,
 "nbformat_minor": 2
}
