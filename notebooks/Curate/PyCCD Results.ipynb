{
 "cells": [
  {
   "cell_type": "markdown",
   "metadata": {},
   "source": [
    "## Overview\n",
    "\n",
    "This notebook is used to:\n",
    "\n",
    "* Request PyCCD execution\n",
    "* Retrieve results directly from Cassandra\n",
    "* Check on progress (or failures)\n",
    "* Produce JSON files"
   ]
  },
  {
   "cell_type": "markdown",
   "metadata": {},
   "source": [
    "### Chip Points in a Tile\n",
    "\n",
    "In order to request or retrieve change results, you will need a range of points. The following function generates a row-major list of points that can be used to request, retrieve, and produce JSON files."
   ]
  },
  {
   "cell_type": "code",
   "execution_count": 1,
   "metadata": {
    "collapsed": false,
    "deletable": true,
    "editable": true
   },
   "outputs": [],
   "source": [
    "def make_points(start_x, start_y):\n",
    "    xr = range(start_x, start_x+(30*5000),  (30*100))\n",
    "    yr = range(start_y, start_y-(30*5000), -(30*100))\n",
    "    return [(x,y) for y in yr for x in xr]"
   ]
  },
  {
   "cell_type": "markdown",
   "metadata": {},
   "source": [
    "### Requesting Execution\n",
    "\n",
    "To execute an algorithm, you make an HTTP request for each point. **You will need to change this url.**"
   ]
  },
  {
   "cell_type": "code",
   "execution_count": 2,
   "metadata": {
    "collapsed": false
   },
   "outputs": [],
   "source": [
    "# CHANGE THIS URL...\n",
    "URL = \"http://lcmap-test.cr.usgs.gov/results/{algorithm}/{x}/{y}?refresh={refresh}\"\n",
    "\n",
    "# ...or else this won't work!\n",
    "def request_execution(algorithm, x, y, refresh=False):\n",
    "    url = URL.format(x=x, y=y, refresh=refresh)\n",
    "    return requests.get(url).json()"
   ]
  },
  {
   "cell_type": "markdown",
   "metadata": {},
   "source": [
    "These are some different upper-left coordinates for ARD tiles."
   ]
  },
  {
   "cell_type": "code",
   "execution_count": 12,
   "metadata": {
    "collapsed": true
   },
   "outputs": [],
   "source": [
    "# x,y = -1815585, 3014805 # H05V02\n",
    "x,y = -1815585, 2864805 # H05V03\n",
    "# x,y = -1965585, 3014805 # H04V02\n",
    "# x,y = -1965585, 2864805 # H04V03\n",
    "\n",
    "points = make_points(x,y)"
   ]
  },
  {
   "cell_type": "markdown",
   "metadata": {},
   "source": [
    "Now you can request execution using that set of points."
   ]
  },
  {
   "cell_type": "code",
   "execution_count": 14,
   "metadata": {
    "collapsed": false
   },
   "outputs": [],
   "source": [
    "algorithm = 'lcmap-pyccd:1.4.0rc1'\n",
    "# results = [request_execution(algorithm, x,y) for (x,y) in points]"
   ]
  },
  {
   "cell_type": "markdown",
   "metadata": {},
   "source": [
    "### Retrieving Data\n",
    "\n",
    "You can retrieve results from the Clownfish REST API or you can access Cassandra directly. Direct access to Cassandra avoid the overhead of HTTP. In general, this is not a good idea, but we know what we're doing... ;-) ...so it's ok."
   ]
  },
  {
   "cell_type": "code",
   "execution_count": 6,
   "metadata": {
    "collapsed": false,
    "deletable": true,
    "editable": true
   },
   "outputs": [],
   "source": [
    "from cassandra.cluster import Cluster, ExecutionProfile\n",
    "from cassandra.auth import PlainTextAuthProvider\n",
    "from cassandra.query import ordered_dict_factory"
   ]
  },
  {
   "cell_type": "markdown",
   "metadata": {},
   "source": [
    "This function creates a session, used to execute CQL."
   ]
  },
  {
   "cell_type": "code",
   "execution_count": 7,
   "metadata": {
    "collapsed": true,
    "deletable": true,
    "editable": true
   },
   "outputs": [],
   "source": [
    "def setup_session(username, password, hosts, keyspace):\n",
    "    auth_provider = PlainTextAuthProvider(username=username, password=password)\n",
    "    cluster = Cluster(hosts, auth_provider=auth_provider)\n",
    "    cluster.add_execution_profile(\"quorum_profile\", ExecutionProfile(consistency_level='quorum'))\n",
    "    session = cluster.connect(keyspace)\n",
    "    session.row_factory = ordered_dict_factory\n",
    "    return session"
   ]
  },
  {
   "cell_type": "markdown",
   "metadata": {},
   "source": [
    "You will need credentials. If you commit changes to the notebook, please remove these values."
   ]
  },
  {
   "cell_type": "code",
   "execution_count": 8,
   "metadata": {
    "collapsed": true,
    "deletable": true,
    "editable": true
   },
   "outputs": [],
   "source": [
    "# Think.\n",
    "username=''\n",
    "password=''\n",
    "hosts=[]\n",
    "keyspace=''"
   ]
  },
  {
   "cell_type": "markdown",
   "metadata": {},
   "source": [
    "Create a session."
   ]
  },
  {
   "cell_type": "code",
   "execution_count": 9,
   "metadata": {
    "collapsed": true
   },
   "outputs": [],
   "source": [
    "session = setup_session(username, password, hosts, keyspace)"
   ]
  },
  {
   "cell_type": "markdown",
   "metadata": {},
   "source": [
    "Here are some more utility functions for _counting_ results."
   ]
  },
  {
   "cell_type": "code",
   "execution_count": 16,
   "metadata": {
    "collapsed": true,
    "deletable": true,
    "editable": true
   },
   "outputs": [],
   "source": [
    "## This is used to count results for a chip. Useful for determining where algorithm execution failed to complete.\n",
    "\n",
    "status_result = session.prepare(\"SELECT count(result_ok) as count FROM results WHERE chip_x=? AND chip_y=? AND algorithm=?\")\n",
    "\n",
    "def count_results(x, y, algorithm):\n",
    "    result = session.execute(status_result, (x, y, algorithm))\n",
    "    return (x,y,algorithm,result[0]['count'])"
   ]
  },
  {
   "cell_type": "markdown",
   "metadata": {},
   "source": [
    "### Counting Results\n",
    "\n",
    "You may find it useful to count the number of results produced for a specific chip. You can do this in parallel..."
   ]
  },
  {
   "cell_type": "code",
   "execution_count": null,
   "metadata": {
    "collapsed": false
   },
   "outputs": [],
   "source": [
    "from multiprocessing.dummy import Pool as ThreadPool \n",
    "pool = ThreadPool(4)\n",
    "these = [(x,y,algorithm) for (x,y) in points]\n",
    "counts = pool.starmap(count_results, these)"
   ]
  },
  {
   "cell_type": "markdown",
   "metadata": {},
   "source": [
    "You can count the number of complete, incomplete, and missing results like this:"
   ]
  },
  {
   "cell_type": "code",
   "execution_count": 505,
   "metadata": {
    "collapsed": false
   },
   "outputs": [
    {
     "data": {
      "text/plain": [
       "2500"
      ]
     },
     "execution_count": 505,
     "metadata": {},
     "output_type": "execute_result"
    }
   ],
   "source": [
    "complete   = [(x,y) for (x,y,a,c) in counts if (c == 10000)]\n",
    "incomplete = [(x,y) for (x,y,a,c) in counts if (c < 10000 and c > 0)]\n",
    "missing    = [(x,y) for (x,y,a,c) in counts if (c == 0)]\n",
    "len(complete) + len(incomplete) + len(missing)"
   ]
  },
  {
   "cell_type": "markdown",
   "metadata": {},
   "source": [
    "You can request re-execution of missing or incomplete chips like this:"
   ]
  },
  {
   "cell_type": "code",
   "execution_count": 507,
   "metadata": {
    "collapsed": true
   },
   "outputs": [],
   "source": [
    "# Commented out to prevent a lot of unintentional work...\n",
    "\n",
    "# If you're just evaluating cells if you come to them, this could \n",
    "# end up queueing a substantial amount of work.\n",
    "\n",
    "# [request_execution(algorithm, x, y, True) for (x,y) in missing]"
   ]
  },
  {
   "cell_type": "markdown",
   "metadata": {},
   "source": [
    "### Saving Results as JSON\n",
    "\n",
    "JSON results are used to build information products."
   ]
  },
  {
   "cell_type": "code",
   "execution_count": 494,
   "metadata": {
    "collapsed": true
   },
   "outputs": [],
   "source": [
    "## These two functions are used to produce JSON files.\n",
    "\n",
    "import json\n",
    "from datetime import datetime\n",
    "\n",
    "def json_serial(obj):\n",
    "    \"\"\"JSON serializer for objects not serializable by default json code\"\"\"\n",
    "\n",
    "    if isinstance(obj, datetime):\n",
    "        serial = obj.isoformat()\n",
    "        return serial\n",
    "    raise TypeError (\"Type not serializable\")\n",
    "\n",
    "entire_result = session.prepare(\"SELECT * FROM results WHERE chip_x=? AND chip_y=? AND algorithm=?\")\n",
    "\n",
    "def save_chip(path_template, x, y, algorithm):\n",
    "    path = path_template.format(x=x,y=y)\n",
    "    result = session.execute(entire_result, (x, y, al))\n",
    "    with open(path.format(x=x,y=y),'w') as outfile:\n",
    "        json.dump(list(result), outfile, default=json_serial)\n",
    "    return path"
   ]
  },
  {
   "cell_type": "markdown",
   "metadata": {},
   "source": [
    "Once you are ready to save data, you can use this code to retrieve an entire chip of data and save it to a JSON file."
   ]
  },
  {
   "cell_type": "code",
   "execution_count": 508,
   "metadata": {
    "collapsed": false
   },
   "outputs": [],
   "source": [
    "save_pool  = ThreadPool(4)\n",
    "path_h5_v3 = '/data2/jmorton/pyccd-results/H05V03/{x}_{y}.json'\n",
    "save_these = [(path_h5_v3, x, y, al) for (x,y) in complete]\n",
    "# results    = save_pool.starmap(save_chip, save_these)"
   ]
  }
 ],
 "metadata": {
  "kernelspec": {
   "display_name": "Python 3",
   "language": "python",
   "name": "python3"
  },
  "language_info": {
   "codemirror_mode": {
    "name": "ipython",
    "version": 3
   },
   "file_extension": ".py",
   "mimetype": "text/x-python",
   "name": "python",
   "nbconvert_exporter": "python",
   "pygments_lexer": "ipython3",
   "version": "3.6.0"
  }
 },
 "nbformat": 4,
 "nbformat_minor": 2
}
