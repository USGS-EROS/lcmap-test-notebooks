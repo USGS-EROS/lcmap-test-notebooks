{
 "cells": [
  {
   "cell_type": "code",
   "execution_count": 5,
   "metadata": {
    "collapsed": false,
    "scrolled": false
   },
   "outputs": [],
   "source": [
    "from lcmap.client import Client\n",
    "import json\n",
    "client = Client();"
   ]
  },
  {
   "cell_type": "code",
   "execution_count": 7,
   "metadata": {
    "collapsed": true
   },
   "outputs": [],
   "source": [
    "x = -2062080\n",
    "y =  2952960\n",
    "t1, t2 = \"2002-05-01\", \"2002-06-01\""
   ]
  },
  {
   "cell_type": "code",
   "execution_count": 42,
   "metadata": {
    "collapsed": false,
    "scrolled": true
   },
   "outputs": [],
   "source": [
    "run = client.models.ndvi.run(x, y, t1, t2)"
   ]
  },
  {
   "cell_type": "code",
   "execution_count": 45,
   "metadata": {
    "collapsed": false
   },
   "outputs": [
    {
     "data": {
      "text/plain": [
       "[{'job_id': 'job-id-tbd',\n",
       "  'nir_acquired': '2013-04-14T05:00:00Z',\n",
       "  'nir_ubid': 'LANDSAT_8/OLI_TIRS/sr_band5',\n",
       "  'nir_x': -1908480,\n",
       "  'nir_y': 2976000,\n",
       "  'vis_acquired': '2013-04-14T05:00:00Z',\n",
       "  'vis_ubid': 'LANDSAT_8/OLI_TIRS/sr_band4',\n",
       "  'vis_x': -1908480,\n",
       "  'vis_y': 2976000}]"
      ]
     },
     "execution_count": 45,
     "metadata": {},
     "output_type": "execute_result"
    }
   ],
   "source": [
    "[json.loads(j['source']) for j in (job['saved'])]"
   ]
  },
  {
   "cell_type": "code",
   "execution_count": 8,
   "metadata": {
    "collapsed": false,
    "scrolled": true
   },
   "outputs": [],
   "source": [
    "_, sr3 = client.data.tiles(\"LANDSAT_7/ETM/sr_band3\", x, y, t1, t2)\n",
    "_, sr4 = client.data.tiles(\"LANDSAT_7/ETM/sr_band4\", x, y, t1, t2)\n",
    "_, ndvi_pre = client.data.tiles(\"LANDSAT_7/ETM/sr_ndvi\", x, y, t1, t2)\n",
    "_, ndvi_job = client.data.tiles(\"LCMAP/SEE/NDVI\", x, y, t1, t2)"
   ]
  },
  {
   "cell_type": "code",
   "execution_count": 10,
   "metadata": {
    "collapsed": false
   },
   "outputs": [
    {
     "data": {
      "text/plain": [
       "('2002-05-01T00:00:00Z', '2002-05-01T00:00:00Z', '2002-05-01T00:00:00Z')"
      ]
     },
     "execution_count": 10,
     "metadata": {},
     "output_type": "execute_result"
    }
   ],
   "source": [
    "ix = 0\n",
    "sr3[ix].acquired, ndvi_pre[ix].acquired, ndvi_job[ix].acquired"
   ]
  },
  {
   "cell_type": "code",
   "execution_count": 20,
   "metadata": {
    "collapsed": false
   },
   "outputs": [],
   "source": [
    "vis, nir = sr3[1].data[0,0], sr4[1].data[0,0]\n",
    "ndvi_now = (nir-vis)/(nir+vis)"
   ]
  },
  {
   "cell_type": "code",
   "execution_count": 24,
   "metadata": {
    "collapsed": false
   },
   "outputs": [
    {
     "data": {
      "text/plain": [
       "(0.80740000000000001, 0.80740000000000001, 0.80740370185092558)"
      ]
     },
     "execution_count": 24,
     "metadata": {},
     "output_type": "execute_result"
    }
   ],
   "source": [
    "ndvi_job[1].data[0,0], ndvi_pre[1].data[0,0], ndvi_now"
   ]
  },
  {
   "cell_type": "code",
   "execution_count": 25,
   "metadata": {
    "collapsed": false
   },
   "outputs": [
    {
     "data": {
      "text/plain": [
       "'{\"vis_y\": 2952960, \"nir_y\": 2952960, \"nir_acquired\": \"2002-05-10T00:00:00Z\", \"vis_acquired\": \"2002-05-10T00:00:00Z\", \"nir_ubid\": \"LANDSAT_7/ETM/sr_band4\", \"vis_ubid\": \"LANDSAT_7/ETM/sr_band3\", \"job_id\": \"fake-job-id\", \"vis_x\": -2062080, \"nir_x\": -2062080}'"
      ]
     },
     "execution_count": 25,
     "metadata": {},
     "output_type": "execute_result"
    }
   ],
   "source": [
    "ndvi_job[1].source"
   ]
  }
 ],
 "metadata": {
  "kernelspec": {
   "display_name": "Python 3",
   "language": "python",
   "name": "python3"
  },
  "language_info": {
   "codemirror_mode": {
    "name": "ipython",
    "version": 3
   },
   "file_extension": ".py",
   "mimetype": "text/x-python",
   "name": "python",
   "nbconvert_exporter": "python",
   "pygments_lexer": "ipython3",
   "version": "3.5.1"
  }
 },
 "nbformat": 4,
 "nbformat_minor": 0
}
