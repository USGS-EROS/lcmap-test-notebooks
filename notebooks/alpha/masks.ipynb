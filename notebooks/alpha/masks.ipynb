{
 "cells": [
  {
   "cell_type": "code",
   "execution_count": 2,
   "metadata": {
    "collapsed": false
   },
   "outputs": [],
   "source": [
    "from lcmap.client import Client\n",
    "client = Client();"
   ]
  },
  {
   "cell_type": "code",
   "execution_count": 4,
   "metadata": {
    "collapsed": false
   },
   "outputs": [],
   "source": [
    "x = -2062080\n",
    "y =  2952960\n",
    "t1 = \"2002-01-01\"\n",
    "t2 = \"2003-01-01\""
   ]
  },
  {
   "cell_type": "code",
   "execution_count": 17,
   "metadata": {
    "collapsed": false
   },
   "outputs": [],
   "source": [
    "mask_spec, masks = client.data.tiles(\"LANDSAT_7/ETM/cfmask\", x, y, t1, t2, mask=False, unscale=False)\n",
    "srb1_spec, sr_b1 = client.data.tiles(\"LANDSAT_7/ETM/sr_band1\", x, y ,t1, t2, mask=False, unscale=False)"
   ]
  },
  {
   "cell_type": "markdown",
   "metadata": {},
   "source": [
    "Get information about the mask using the tile spec."
   ]
  },
  {
   "cell_type": "code",
   "execution_count": 7,
   "metadata": {
    "collapsed": false
   },
   "outputs": [
    {
     "data": {
      "text/plain": [
       "{u'band_category': u'qa',\n",
       " u'band_long_name': u'cfmask_band',\n",
       " u'band_name': u'cfmask',\n",
       " u'band_product': u'cfmask',\n",
       " u'band_short_name': u'LT5CFMASK',\n",
       " u'band_spectrum': None,\n",
       " u'data_fill': 255,\n",
       " u'data_mask': {u'0': u'clear',\n",
       "  u'1': u'water',\n",
       "  u'2': u'cloud_shadow',\n",
       "  u'255': u'fill',\n",
       "  u'3': u'snow',\n",
       "  u'4': u'cloud'},\n",
       " u'data_range': [0, 4],\n",
       " u'data_scale': None,\n",
       " u'data_shape': [256, 256],\n",
       " u'data_type': u'UINT8',\n",
       " u'data_units': None,\n",
       " u'instrument': u'TM',\n",
       " u'keyspace_name': u'lcmap',\n",
       " u'pixel_x': 30.0,\n",
       " u'pixel_y': -30.0,\n",
       " u'projection': u'PROJCS[\"Albers\",GEOGCS[\"WGS 84\",DATUM[\"WGS_1984\",SPHEROID[\"WGS 84\",6378137,298.257223563,AUTHORITY[\"EPSG\",\"7030\"]],AUTHORITY[\"EPSG\",\"6326\"]],PRIMEM[\"Greenwich\",0],UNIT[\"degree\",0.0174532925199433],AUTHORITY[\"EPSG\",\"4326\"]],PROJECTION[\"Albers_Conic_Equal_Area\"],PARAMETER[\"standard_parallel_1\",29.5],PARAMETER[\"standard_parallel_2\",45.5],PARAMETER[\"latitude_of_center\",23],PARAMETER[\"longitude_of_center\",-96],PARAMETER[\"false_easting\",0],PARAMETER[\"false_northing\",0],UNIT[\"metre\",1,AUTHORITY[\"EPSG\",\"9001\"]]]',\n",
       " u'resample_method': None,\n",
       " u'satellite': u'LANDSAT_5',\n",
       " u'shift_x': 15.0,\n",
       " u'shift_y': -15.0,\n",
       " u'table_name': u'conus',\n",
       " u'tile_x': 7680,\n",
       " u'tile_y': -7680,\n",
       " u'ubid': u'LANDSAT_5/TM/cfmask'}"
      ]
     },
     "execution_count": 7,
     "metadata": {},
     "output_type": "execute_result"
    }
   ],
   "source": [
    "mask_spec"
   ]
  },
  {
   "cell_type": "markdown",
   "metadata": {},
   "source": [
    "Assign the first mask and sr_band1 tile to more convenient names."
   ]
  },
  {
   "cell_type": "code",
   "execution_count": 31,
   "metadata": {
    "collapsed": false
   },
   "outputs": [
    {
     "data": {
      "text/plain": [
       "('LE70460282002130EDC00', array([[0, 0, 0, ..., 4, 4, 4],\n",
       "        [0, 0, 0, ..., 4, 4, 4],\n",
       "        [0, 0, 0, ..., 4, 4, 4],\n",
       "        ..., \n",
       "        [2, 2, 2, ..., 2, 2, 4],\n",
       "        [2, 2, 2, ..., 2, 2, 2],\n",
       "        [2, 2, 2, ..., 2, 2, 2]], dtype=uint8))"
      ]
     },
     "execution_count": 31,
     "metadata": {},
     "output_type": "execute_result"
    }
   ],
   "source": [
    "m0, t0 = masks[16], sr_b1[16]\n",
    "m0.source, m0.data"
   ]
  },
  {
   "cell_type": "markdown",
   "metadata": {},
   "source": [
    "Are the two tiles acquired at the same moment in time, from the same source?"
   ]
  },
  {
   "cell_type": "code",
   "execution_count": 20,
   "metadata": {
    "collapsed": false
   },
   "outputs": [
    {
     "data": {
      "text/plain": [
       "[True, True]"
      ]
     },
     "execution_count": 20,
     "metadata": {},
     "output_type": "execute_result"
    }
   ],
   "source": [
    "[m0.acquired==t0.acquired, m0.source==t0.source]"
   ]
  },
  {
   "cell_type": "markdown",
   "metadata": {},
   "source": [
    "Now, use the mask to filter out the SR data."
   ]
  },
  {
   "cell_type": "code",
   "execution_count": 14,
   "metadata": {
    "collapsed": true
   },
   "outputs": [],
   "source": [
    "import numpy as np"
   ]
  },
  {
   "cell_type": "markdown",
   "metadata": {},
   "source": [
    "Counting the unmasked data points. No surprise, 256*256..."
   ]
  },
  {
   "cell_type": "code",
   "execution_count": 32,
   "metadata": {
    "collapsed": false
   },
   "outputs": [
    {
     "data": {
      "text/plain": [
       "16384"
      ]
     },
     "execution_count": 32,
     "metadata": {},
     "output_type": "execute_result"
    }
   ],
   "source": [
    "np.ma.count(t0.data)"
   ]
  },
  {
   "cell_type": "markdown",
   "metadata": {},
   "source": [
    "Counting the clear pixels..."
   ]
  },
  {
   "cell_type": "code",
   "execution_count": 33,
   "metadata": {
    "collapsed": false
   },
   "outputs": [
    {
     "data": {
      "text/plain": [
       "masked_array(data =\n",
       " [[-- -- -- ..., 2125 2190 2467]\n",
       " [-- -- -- ..., 1584 1517 1781]\n",
       " [-- -- -- ..., 1099 1031 1275]\n",
       " ..., \n",
       " [877 577 344 ..., 189 263 387]\n",
       " [647 554 415 ..., 261 263 339]\n",
       " [508 462 415 ..., 285 287 339]],\n",
       "             mask =\n",
       " [[ True  True  True ..., False False False]\n",
       " [ True  True  True ..., False False False]\n",
       " [ True  True  True ..., False False False]\n",
       " ..., \n",
       " [False False False ..., False False False]\n",
       " [False False False ..., False False False]\n",
       " [False False False ..., False False False]],\n",
       "       fill_value = 999999)"
      ]
     },
     "execution_count": 33,
     "metadata": {},
     "output_type": "execute_result"
    }
   ],
   "source": [
    "np.ma.masked_where(m0.data == 0, t0.data)"
   ]
  },
  {
   "cell_type": "code",
   "execution_count": 43,
   "metadata": {
    "collapsed": false
   },
   "outputs": [
    {
     "data": {
      "text/plain": [
       "masked_array(data =\n",
       " [[207 260 234 ..., 146 146 173]\n",
       " [182 235 262 ..., 146 146 173]\n",
       " [209 235 287 ..., 197 197 198]\n",
       " ..., \n",
       " [192 218 192 ..., 170 220 220]\n",
       " [167 192 192 ..., 221 220 245]\n",
       " [218 192 116 ..., 221 195 194]],\n",
       "             mask =\n",
       " False,\n",
       "       fill_value = 999999)"
      ]
     },
     "execution_count": 43,
     "metadata": {},
     "output_type": "execute_result"
    }
   ],
   "source": [
    "np.ma.masked_where(m0.data == 4, t0.data)"
   ]
  },
  {
   "cell_type": "code",
   "execution_count": 34,
   "metadata": {
    "collapsed": false
   },
   "outputs": [
    {
     "data": {
      "text/plain": [
       "14989"
      ]
     },
     "execution_count": 34,
     "metadata": {},
     "output_type": "execute_result"
    }
   ],
   "source": [
    "np.ma.masked_where(m0.data == 4, t0.data).count()"
   ]
  },
  {
   "cell_type": "code",
   "execution_count": 35,
   "metadata": {
    "collapsed": false
   },
   "outputs": [],
   "source": [
    "import matplotlib.pyplot as plt\n",
    "import matplotlib.colors as mc\n",
    "import matplotlib.cm as cm\n",
    "import matplotlib.dates as mdates\n",
    "import matplotlib as mpl\n",
    "import skimage.exposure as ex\n",
    "from matplotlib.colors import LinearSegmentedColormap\n",
    "import warnings\n",
    "warnings.filterwarnings('ignore')\n",
    "%matplotlib inline"
   ]
  },
  {
   "cell_type": "code",
   "execution_count": 36,
   "metadata": {
    "collapsed": false
   },
   "outputs": [
    {
     "data": {
      "text/plain": [
       "{'0': 'clear',\n",
       " '1': 'water',\n",
       " '2': 'cloud_shadow',\n",
       " '255': 'fill',\n",
       " '3': 'snow',\n",
       " '4': 'cloud'}"
      ]
     },
     "execution_count": 36,
     "metadata": {},
     "output_type": "execute_result"
    }
   ],
   "source": [
    "mask_spec['data_mask']"
   ]
  },
  {
   "cell_type": "code",
   "execution_count": 37,
   "metadata": {
    "collapsed": false
   },
   "outputs": [],
   "source": [
    "labels = mask_spec['data_mask'].values()\n",
    "N = len(labels)\n",
    "cmap = plt.cm.jet\n",
    "cmaplist = [cmap(i*2) for i in range(N)]\n",
    "cmap = cmap.from_list('CFMask cmap', cmaplist, N)"
   ]
  },
  {
   "cell_type": "code",
   "execution_count": 38,
   "metadata": {
    "collapsed": false
   },
   "outputs": [
    {
     "data": {
      "text/plain": [
       "<matplotlib.image.AxesImage at 0x7fd9451c2400>"
      ]
     },
     "execution_count": 38,
     "metadata": {},
     "output_type": "execute_result"
    },
    {
     "data": {
      "image/png": "[encoded data removed]",
      "text/plain": [
       "<matplotlib.figure.Figure at 0x7fd945257240>"
      ]
     },
     "metadata": {},
     "output_type": "display_data"
    }
   ],
   "source": [
    "fig = plt.figure(figsize=(16,8))\n",
    "\n",
    "s1 = fig.add_subplot(1,2,1)\n",
    "s1.axis('off')\n",
    "s1.set_title(\"Mask\")\n",
    "s1.imshow(m0.data, interpolation='nearest')\n",
    "\n",
    "s2 = fig.add_subplot(1,2,2)\n",
    "s2.axis('off')\n",
    "s2.set_title(\"Red\")\n",
    "s2.imshow(t0.data, interpolation='nearest', cmap=cm.Reds)"
   ]
  }
 ],
 "metadata": {
  "kernelspec": {
   "display_name": "Python 3",
   "language": "python",
   "name": "python3"
  },
  "language_info": {
   "codemirror_mode": {
    "name": "ipython",
    "version": 3
   },
   "file_extension": ".py",
   "mimetype": "text/x-python",
   "name": "python",
   "nbconvert_exporter": "python",
   "pygments_lexer": "ipython3",
   "version": "3.5.1"
  }
 },
 "nbformat": 4,
 "nbformat_minor": 0
}
