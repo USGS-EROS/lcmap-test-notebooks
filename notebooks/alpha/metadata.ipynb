{
 "cells": [
  {
   "cell_type": "code",
   "execution_count": 1,
   "metadata": {
    "collapsed": true
   },
   "outputs": [],
   "source": [
    "from lcmap.client import Client\n",
    "import json\n",
    "client = Client();"
   ]
  },
  {
   "cell_type": "code",
   "execution_count": 2,
   "metadata": {
    "collapsed": false
   },
   "outputs": [
    {
     "data": {
      "text/plain": [
       "[{'band_category': 'image',\n",
       "  'band_long_name': 'band 1 surface reflectance',\n",
       "  'band_name': 'sr_band1',\n",
       "  'band_product': 'sr_refl',\n",
       "  'band_short_name': 'LE7SR',\n",
       "  'band_spectrum': None,\n",
       "  'data_fill': -9999,\n",
       "  'data_mask': None,\n",
       "  'data_range': [-2000, 16000],\n",
       "  'data_scale': 0.0001,\n",
       "  'data_shape': [128, 128],\n",
       "  'data_type': 'INT16',\n",
       "  'data_units': None,\n",
       "  'instrument': None,\n",
       "  'keyspace_name': 'lcmap',\n",
       "  'pixel_x': 30.0,\n",
       "  'pixel_y': -30.0,\n",
       "  'projection': 'PROJCS[\"Albers\",GEOGCS[\"WGS 84\",DATUM[\"WGS_1984\",SPHEROID[\"WGS 84\",6378137,298.257223563,AUTHORITY[\"EPSG\",\"7030\"]],AUTHORITY[\"EPSG\",\"6326\"]],PRIMEM[\"Greenwich\",0],UNIT[\"degree\",0.0174532925199433],AUTHORITY[\"EPSG\",\"4326\"]],PROJECTION[\"Albers_Conic_Equal_Area\"],PARAMETER[\"standard_parallel_1\",29.5],PARAMETER[\"standard_parallel_2\",45.5],PARAMETER[\"latitude_of_center\",23],PARAMETER[\"longitude_of_center\",-96],PARAMETER[\"false_easting\",0],PARAMETER[\"false_northing\",0],UNIT[\"metre\",1,AUTHORITY[\"EPSG\",\"9001\"]]]',\n",
       "  'resample_method': None,\n",
       "  'satellite': None,\n",
       "  'shift_x': 0.0,\n",
       "  'shift_y': 0.0,\n",
       "  'table_name': 'conus',\n",
       "  'tile_x': 3840,\n",
       "  'tile_y': 3840,\n",
       "  'ubid': 'LANDSAT_7/ETM/sr_band1'}]"
      ]
     },
     "execution_count": 2,
     "metadata": {},
     "output_type": "execute_result"
    }
   ],
   "source": [
    "client.data.specs(\"LANDSAT_7/ETM/sr_band1\")"
   ]
  },
  {
   "cell_type": "code",
   "execution_count": 3,
   "metadata": {
    "collapsed": false
   },
   "outputs": [
    {
     "data": {
      "text/plain": [
       "[{'acquired': '2002-05-01',\n",
       "  'instrument': 'ETM',\n",
       "  'lpgs_file': 'LE70470282002121PAC01_MTL.txt',\n",
       "  'provider': 'USGS/EROS',\n",
       "  'satellite': 'LANDSAT_7',\n",
       "  'solar_angles': {'azimuth': 144.218338,\n",
       "   'units': 'degrees',\n",
       "   'zenith': 35.282742},\n",
       "  'source': 'LE70470282002121PAC01'}]"
      ]
     },
     "execution_count": 3,
     "metadata": {},
     "output_type": "execute_result"
    }
   ],
   "source": [
    "client.data.scenes(\"LE70470282002121PAC01\")"
   ]
  }
 ],
 "metadata": {
  "kernelspec": {
   "display_name": "Python 3",
   "language": "python",
   "name": "python3"
  },
  "language_info": {
   "codemirror_mode": {
    "name": "ipython",
    "version": 3
   },
   "file_extension": ".py",
   "mimetype": "text/x-python",
   "name": "python",
   "nbconvert_exporter": "python",
   "pygments_lexer": "ipython3",
   "version": "3.5.1"
  }
 },
 "nbformat": 4,
 "nbformat_minor": 0
}
