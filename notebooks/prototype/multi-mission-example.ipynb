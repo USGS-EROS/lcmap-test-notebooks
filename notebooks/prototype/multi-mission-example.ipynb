{
 "cells": [
  {
   "cell_type": "code",
   "execution_count": 2,
   "metadata": {
    "collapsed": true
   },
   "outputs": [],
   "source": [
    "from lcmap.client import Client\n",
    "import matplotlib.pyplot as plt\n",
    "import matplotlib.colors as mc\n",
    "import matplotlib.cm as cm\n",
    "import matplotlib.dates as mdates\n",
    "import skimage.exposure as ex\n",
    "import seaborn as sns\n",
    "import warnings\n",
    "warnings.filterwarnings('ignore')\n",
    "%matplotlib inline"
   ]
  },
  {
   "cell_type": "code",
   "execution_count": 4,
   "metadata": {
    "collapsed": true
   },
   "outputs": [],
   "source": [
    "client = Client();"
   ]
  },
  {
   "cell_type": "code",
   "execution_count": 38,
   "metadata": {
    "collapsed": false
   },
   "outputs": [],
   "source": [
    "x, y = -2096625, 3095025\n",
    "t1, t2 = '2001-06-01', '2003-06-01'\n",
    "_, rt_L5 = client.data.surface_reflectance.tiles(\"LANDSAT_5/TM/sr_band3\", x, y, t1, t2)\n",
    "_, cf_L5 = client.data.surface_reflectance.tiles(\"LANDSAT_5/TM/cfmask\", x, y, t1, t2)\n",
    "_, rt_L7 = client.data.surface_reflectance.tiles(\"LANDSAT_7/ETM/sr_band3\", x, y, t1, t2)\n",
    "_, cf_L7 = client.data.surface_reflectance.tiles(\"LANDSAT_7/ETM/cfmask\", x, y, t1, t2)"
   ]
  },
  {
   "cell_type": "code",
   "execution_count": 63,
   "metadata": {
    "collapsed": true
   },
   "outputs": [],
   "source": [
    "import datetime\n",
    "import numpy\n",
    "\n",
    "def parse(s):\n",
    "    return datetime.datetime.strptime(s, \"%Y-%m-%dT%H:%M:%SZ\")"
   ]
  },
  {
   "cell_type": "code",
   "execution_count": 69,
   "metadata": {
    "collapsed": false
   },
   "outputs": [],
   "source": [
    "point = 1,1 # raster grid coordinate (not projection system)\n",
    "r5 = numpy.array([(parse(t.acquired),t.data[point]) for t in rt_L5])\n",
    "r7 = numpy.array([(parse(t.acquired),t.data[point]) for t in rt_L7])"
   ]
  },
  {
   "cell_type": "code",
   "execution_count": 117,
   "metadata": {
    "collapsed": false
   },
   "outputs": [
    {
     "data": {
      "text/plain": [
       "(730643.2083333334, 731363.2083333334)"
      ]
     },
     "execution_count": 117,
     "metadata": {},
     "output_type": "execute_result"
    },
    {
     "data": {
      "image/png": "[encoded data removed]",
      "text/plain": [
       "<matplotlib.figure.Figure at 0x7fab56546898>"
      ]
     },
     "metadata": {},
     "output_type": "display_data"
    }
   ],
   "source": [
    "fig = plt.figure(figsize=(16, 4.5))\n",
    "fig.hold(True)\n",
    "ax = fig.add_subplot(111)\n",
    "ax.set_ylim(-0.5, 2.5)\n",
    "ax.plot_date(r5[:,0], r5[:,1], 'rs', ms=7, alpha=0.7, mew=2.0, markeredgecolor='red', markerfacecolor='none')\n",
    "ax.plot_date(r7[:,0], r7[:,1], 'ro', ms=7, alpha=0.7, mew=2.0, markeredgecolor='red', markerfacecolor='none')\n",
    "ax.set_xlim(r5[0,0], r5[-1,0])"
   ]
  },
  {
   "cell_type": "code",
   "execution_count": 116,
   "metadata": {
    "collapsed": false
   },
   "outputs": [
    {
     "data": {
      "text/plain": [
       "[{'mean': masked_array(data = 0.5306542605813619,\n",
       "               mask = False,\n",
       "         fill_value = 1e+20),\n",
       "  'median': masked_array(data = 0.32959999167360365,\n",
       "               mask = False,\n",
       "         fill_value = 1e+20),\n",
       "  'std': 0.63116180190979276},\n",
       " {'mean': masked_array(data = 1.7581299986156846,\n",
       "               mask = False,\n",
       "         fill_value = 1e+20), 'median': masked_array(data = 1.9999999494757503,\n",
       "               mask = False,\n",
       "         fill_value = 1e+20), 'std': 0.59305308520520206}]"
      ]
     },
     "execution_count": 116,
     "metadata": {},
     "output_type": "execute_result"
    }
   ],
   "source": [
    "import numpy as np\n",
    "\n",
    "def compare(*tiles):\n",
    "    return [{'std':np.std(t),'mean':np.mean(t),'median':np.median(t)} for t in tiles]\n",
    "    \n",
    "compare(rt_L5[0].data, rt_L7[0].data)"
   ]
  }
 ],
 "metadata": {
  "kernelspec": {
   "display_name": "Python 3",
   "language": "python",
   "name": "python3"
  },
  "language_info": {
   "codemirror_mode": {
    "name": "ipython",
    "version": 3
   },
   "file_extension": ".py",
   "mimetype": "text/x-python",
   "name": "python",
   "nbconvert_exporter": "python",
   "pygments_lexer": "ipython3",
   "version": "3.4.4"
  }
 },
 "nbformat": 4,
 "nbformat_minor": 0
}
