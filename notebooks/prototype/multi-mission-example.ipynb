{
 "cells": [
  {
   "cell_type": "code",
   "execution_count": 2,
   "metadata": {
    "collapsed": true
   },
   "outputs": [],
   "source": [
    "from lcmap.client import Client\n",
    "import matplotlib.pyplot as plt\n",
    "import matplotlib.colors as mc\n",
    "import matplotlib.cm as cm\n",
    "import matplotlib.dates as mdates\n",
    "import skimage.exposure as ex\n",
    "import seaborn as sns\n",
    "import warnings\n",
    "warnings.filterwarnings('ignore')\n",
    "%matplotlib inline"
   ]
  },
  {
   "cell_type": "code",
   "execution_count": 4,
   "metadata": {
    "collapsed": true
   },
   "outputs": [],
   "source": [
    "client = Client();"
   ]
  },
  {
   "cell_type": "code",
   "execution_count": 7,
   "metadata": {
    "collapsed": false
   },
   "outputs": [],
   "source": [
    "x, y = -2096625, 3095025\n",
    "t1, t2 = '2001-01-01', '2003-01-01'\n",
    "_, rt_L5 = client.data.surface_reflectance.tiles(\"LANDSAT_5/TM/sr_band3\", x, y, t1, t2)\n",
    "_, rt_L7 = client.data.surface_reflectance.tiles(\"LANDSAT_7/ETM/sr_band3\", x, y, t1, t2)"
   ]
  },
  {
   "cell_type": "code",
   "execution_count": 8,
   "metadata": {
    "collapsed": true
   },
   "outputs": [],
   "source": [
    "point = 1,1 # raster grid coordinate (not projection system)\n",
    "r5 = [t.data[point] for t in rt_L5]\n",
    "r7 = [t.data[point] for t in rt_L7]"
   ]
  },
  {
   "cell_type": "code",
   "execution_count": 10,
   "metadata": {
    "collapsed": false
   },
   "outputs": [
    {
     "data": {
      "text/plain": [
       "[<matplotlib.lines.Line2D at 0x7fab56e68630>]"
      ]
     },
     "execution_count": 10,
     "metadata": {},
     "output_type": "execute_result"
    },
    {
     "data": {
      "image/png": "[encoded data removed]",
      "text/plain": [
       "<matplotlib.figure.Figure at 0x7fab56f32780>"
      ]
     },
     "metadata": {},
     "output_type": "display_data"
    }
   ],
   "source": [
    "fig = plt.figure(figsize=(12, 4.5))\n",
    "fig.hold(True)\n",
    "ax = fig.add_subplot(111)\n",
    "ax.set_ylim(-0.5, 2.5)\n",
    "ax.set_xlim(-5, 70)\n",
    "ax.plot(r5, 'ro', ms=7, alpha=0.6)\n",
    "ax.plot(r7, 'rs', ms=7, alpha=0.6)"
   ]
  }
 ],
 "metadata": {
  "kernelspec": {
   "display_name": "Python 3",
   "language": "python",
   "name": "python3"
  },
  "language_info": {
   "codemirror_mode": {
    "name": "ipython",
    "version": 3
   },
   "file_extension": ".py",
   "mimetype": "text/x-python",
   "name": "python",
   "nbconvert_exporter": "python",
   "pygments_lexer": "ipython3",
   "version": "3.4.4"
  }
 },
 "nbformat": 4,
 "nbformat_minor": 0
}
