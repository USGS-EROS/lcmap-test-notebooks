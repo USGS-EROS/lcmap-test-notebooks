{
 "cells": [
  {
   "cell_type": "code",
   "execution_count": 1,
   "metadata": {
    "collapsed": true
   },
   "outputs": [],
   "source": [
    "import lcmap_client.cli as cli\n",
    "import pandas as pd"
   ]
  },
  {
   "cell_type": "code",
   "execution_count": 43,
   "metadata": {
    "collapsed": false
   },
   "outputs": [
    {
     "name": "stderr",
     "output_type": "stream",
     "text": [
      "INFO:requests.packages.urllib3.connectionpool:Starting new HTTP connection (1): localhost\n",
      "\u001b[32m2016.02.12 18:14:47.757\u001b[0m \u001b[36m[MainProcess]\u001b[0m \u001b[34mINFO\u001b[0m \u001b[33mrequests.packages.urllib3.connectionpool\u001b[0m - Starting new HTTP connection (1): localhost\n",
      "\u001b[32m2016.02.12 18:14:47.757\u001b[0m \u001b[36m[MainProcess]\u001b[0m \u001b[34mINFO\u001b[0m \u001b[33mrequests.packages.urllib3.connectionpool\u001b[0m - Starting new HTTP connection (1): localhost\n",
      "\u001b[32m2016.02.12 18:14:47.757\u001b[0m \u001b[36m[MainProcess]\u001b[0m \u001b[34mINFO\u001b[0m \u001b[33mrequests.packages.urllib3.connectionpool\u001b[0m - Starting new HTTP connection (1): localhost\n",
      "\u001b[32m2016.02.12 18:14:47.757\u001b[0m \u001b[36m[MainProcess]\u001b[0m \u001b[34mINFO\u001b[0m \u001b[33mrequests.packages.urllib3.connectionpool\u001b[0m - Starting new HTTP connection (1): localhost\n",
      "\u001b[32m2016.02.12 18:14:47.757\u001b[0m \u001b[36m[MainProcess]\u001b[0m \u001b[34mINFO\u001b[0m \u001b[33mrequests.packages.urllib3.connectionpool\u001b[0m - Starting new HTTP connection (1): localhost\n",
      "\u001b[32m2016.02.12 18:14:47.757\u001b[0m \u001b[36m[MainProcess]\u001b[0m \u001b[34mINFO\u001b[0m \u001b[33mrequests.packages.urllib3.connectionpool\u001b[0m - Starting new HTTP connection (1): localhost\n",
      "\u001b[32m2016.02.12 18:14:47.757\u001b[0m \u001b[36m[MainProcess]\u001b[0m \u001b[34mINFO\u001b[0m \u001b[33mrequests.packages.urllib3.connectionpool\u001b[0m - Starting new HTTP connection (1): localhost\n",
      "\u001b[32m2016.02.12 18:14:47.757\u001b[0m \u001b[36m[MainProcess]\u001b[0m \u001b[34mINFO\u001b[0m \u001b[33mrequests.packages.urllib3.connectionpool\u001b[0m - Starting new HTTP connection (1): localhost\n",
      "\u001b[32m2016.02.12 18:14:47.757\u001b[0m \u001b[36m[MainProcess]\u001b[0m \u001b[34mINFO\u001b[0m \u001b[33mrequests.packages.urllib3.connectionpool\u001b[0m - Starting new HTTP connection (1): localhost\n",
      "\u001b[32m2016.02.12 18:14:47.757\u001b[0m \u001b[36m[MainProcess]\u001b[0m \u001b[34mINFO\u001b[0m \u001b[33mrequests.packages.urllib3.connectionpool\u001b[0m - Starting new HTTP connection (1): localhost\n",
      "\u001b[32m2016.02.12 18:14:47.757\u001b[0m \u001b[36m[MainProcess]\u001b[0m \u001b[34mINFO\u001b[0m \u001b[33mrequests.packages.urllib3.connectionpool\u001b[0m - Starting new HTTP connection (1): localhost\n"
     ]
    }
   ],
   "source": [
    "from lcmap_client import Client\n",
    "\n",
    "client = Client()\n",
    "spec, r1 = client.data.surface_reflectance.rod('LANDSAT_7/ETM/sr_band1', x=-1789425, y=3073665, t1='2010-01-01', t2='2015-01-01')\n",
    "spec, r2 = client.data.surface_reflectance.rod('LANDSAT_7/ETM/sr_band2', x=-1789425, y=3073665, t1='2010-01-01', t2='2015-01-01')\n",
    "spec, r3 = client.data.surface_reflectance.rod('LANDSAT_7/ETM/sr_band3', x=-1789425, y=3073665, t1='2010-01-01', t2='2015-01-01')\n",
    "spec, c1 = client.data.surface_reflectance.rod('LANDSAT_7/ETM/cfmask',   x=-1789425, y=3073665, t1='2010-01-01', t2='2015-01-01')\n",
    "\n",
    "for r in r1:\n",
    "    r['spectrum']='blue'\n",
    "for r in r2:\n",
    "    r['spectrum']='green'\n",
    "for r in r3:\n",
    "    r['spectrum']='red'\n",
    "for r in c1:\n",
    "    r['spectrum']='cfmask'\n",
    "\n",
    "rods = []\n",
    "rods.extend(r1)\n",
    "rods.extend(r2)\n",
    "rods.extend(r3)\n",
    "rods.extend(c1)"
   ]
  },
  {
   "cell_type": "code",
   "execution_count": 44,
   "metadata": {
    "collapsed": false
   },
   "outputs": [],
   "source": [
    "df1 = pd.DataFrame(rods)"
   ]
  },
  {
   "cell_type": "code",
   "execution_count": 95,
   "metadata": {
    "collapsed": false
   },
   "outputs": [
    {
     "data": {
      "text/html": [
       "<div>\n",
       "<table border=\"1\" class=\"dataframe\">\n",
       "  <thead>\n",
       "    <tr style=\"text-align: right;\">\n",
       "      <th></th>\n",
       "      <th>acquired</th>\n",
       "      <th>source</th>\n",
       "      <th>spectrum</th>\n",
       "      <th>ubid</th>\n",
       "      <th>value</th>\n",
       "    </tr>\n",
       "  </thead>\n",
       "  <tbody>\n",
       "    <tr>\n",
       "      <th>0</th>\n",
       "      <td>2013-07-27T00:00:00Z</td>\n",
       "      <td>LE70460262013208EDC00</td>\n",
       "      <td>blue</td>\n",
       "      <td>LANDSAT_7/ETM/sr_band1</td>\n",
       "      <td>0.0137</td>\n",
       "    </tr>\n",
       "    <tr>\n",
       "      <th>1</th>\n",
       "      <td>2013-08-12T00:00:00Z</td>\n",
       "      <td>LE70460262013224EDC00</td>\n",
       "      <td>blue</td>\n",
       "      <td>LANDSAT_7/ETM/sr_band1</td>\n",
       "      <td>0.2128</td>\n",
       "    </tr>\n",
       "    <tr>\n",
       "      <th>2</th>\n",
       "      <td>2013-07-27T00:00:00Z</td>\n",
       "      <td>LE70460262013208EDC00</td>\n",
       "      <td>green</td>\n",
       "      <td>LANDSAT_7/ETM/sr_band2</td>\n",
       "      <td>0.0262</td>\n",
       "    </tr>\n",
       "    <tr>\n",
       "      <th>3</th>\n",
       "      <td>2013-08-12T00:00:00Z</td>\n",
       "      <td>LE70460262013224EDC00</td>\n",
       "      <td>green</td>\n",
       "      <td>LANDSAT_7/ETM/sr_band2</td>\n",
       "      <td>0.2334</td>\n",
       "    </tr>\n",
       "    <tr>\n",
       "      <th>4</th>\n",
       "      <td>2013-07-27T00:00:00Z</td>\n",
       "      <td>LE70460262013208EDC00</td>\n",
       "      <td>red</td>\n",
       "      <td>LANDSAT_7/ETM/sr_band3</td>\n",
       "      <td>0.0226</td>\n",
       "    </tr>\n",
       "    <tr>\n",
       "      <th>5</th>\n",
       "      <td>2013-08-12T00:00:00Z</td>\n",
       "      <td>LE70460262013224EDC00</td>\n",
       "      <td>red</td>\n",
       "      <td>LANDSAT_7/ETM/sr_band3</td>\n",
       "      <td>0.2402</td>\n",
       "    </tr>\n",
       "    <tr>\n",
       "      <th>6</th>\n",
       "      <td>2013-07-27T00:00:00Z</td>\n",
       "      <td>LE70460262013208EDC00</td>\n",
       "      <td>cfmask</td>\n",
       "      <td>LANDSAT_7/ETM/cfmask</td>\n",
       "      <td>0.0000</td>\n",
       "    </tr>\n",
       "    <tr>\n",
       "      <th>7</th>\n",
       "      <td>2013-08-12T00:00:00Z</td>\n",
       "      <td>LE70460262013224EDC00</td>\n",
       "      <td>cfmask</td>\n",
       "      <td>LANDSAT_7/ETM/cfmask</td>\n",
       "      <td>4.0000</td>\n",
       "    </tr>\n",
       "  </tbody>\n",
       "</table>\n",
       "</div>"
      ],
      "text/plain": [
       "               acquired                 source spectrum  \\\n",
       "0  2013-07-27T00:00:00Z  LE70460262013208EDC00     blue   \n",
       "1  2013-08-12T00:00:00Z  LE70460262013224EDC00     blue   \n",
       "2  2013-07-27T00:00:00Z  LE70460262013208EDC00    green   \n",
       "3  2013-08-12T00:00:00Z  LE70460262013224EDC00    green   \n",
       "4  2013-07-27T00:00:00Z  LE70460262013208EDC00      red   \n",
       "5  2013-08-12T00:00:00Z  LE70460262013224EDC00      red   \n",
       "6  2013-07-27T00:00:00Z  LE70460262013208EDC00   cfmask   \n",
       "7  2013-08-12T00:00:00Z  LE70460262013224EDC00   cfmask   \n",
       "\n",
       "                     ubid   value  \n",
       "0  LANDSAT_7/ETM/sr_band1  0.0137  \n",
       "1  LANDSAT_7/ETM/sr_band1  0.2128  \n",
       "2  LANDSAT_7/ETM/sr_band2  0.0262  \n",
       "3  LANDSAT_7/ETM/sr_band2  0.2334  \n",
       "4  LANDSAT_7/ETM/sr_band3  0.0226  \n",
       "5  LANDSAT_7/ETM/sr_band3  0.2402  \n",
       "6    LANDSAT_7/ETM/cfmask  0.0000  \n",
       "7    LANDSAT_7/ETM/cfmask  4.0000  "
      ]
     },
     "execution_count": 95,
     "metadata": {},
     "output_type": "execute_result"
    }
   ],
   "source": [
    "df1"
   ]
  },
  {
   "cell_type": "code",
   "execution_count": 100,
   "metadata": {
    "collapsed": false
   },
   "outputs": [
    {
     "data": {
      "text/html": [
       "<div>\n",
       "<table border=\"1\" class=\"dataframe\">\n",
       "  <thead>\n",
       "    <tr style=\"text-align: right;\">\n",
       "      <th>spectrum</th>\n",
       "      <th>blue</th>\n",
       "      <th>cfmask</th>\n",
       "      <th>green</th>\n",
       "      <th>red</th>\n",
       "    </tr>\n",
       "    <tr>\n",
       "      <th>source</th>\n",
       "      <th></th>\n",
       "      <th></th>\n",
       "      <th></th>\n",
       "      <th></th>\n",
       "    </tr>\n",
       "  </thead>\n",
       "  <tbody>\n",
       "    <tr>\n",
       "      <th>LE70460262013208EDC00</th>\n",
       "      <td>0.0137</td>\n",
       "      <td>0</td>\n",
       "      <td>0.0262</td>\n",
       "      <td>0.0226</td>\n",
       "    </tr>\n",
       "    <tr>\n",
       "      <th>LE70460262013224EDC00</th>\n",
       "      <td>0.2128</td>\n",
       "      <td>4</td>\n",
       "      <td>0.2334</td>\n",
       "      <td>0.2402</td>\n",
       "    </tr>\n",
       "  </tbody>\n",
       "</table>\n",
       "</div>"
      ],
      "text/plain": [
       "spectrum                 blue  cfmask   green     red\n",
       "source                                               \n",
       "LE70460262013208EDC00  0.0137       0  0.0262  0.0226\n",
       "LE70460262013224EDC00  0.2128       4  0.2334  0.2402"
      ]
     },
     "execution_count": 100,
     "metadata": {},
     "output_type": "execute_result"
    }
   ],
   "source": [
    "df1.pivot(index='source',columns='spectrum',values='value')"
   ]
  }
 ],
 "metadata": {
  "kernelspec": {
   "display_name": "Python 3",
   "language": "python",
   "name": "python3"
  },
  "language_info": {
   "codemirror_mode": {
    "name": "ipython",
    "version": 3
   },
   "file_extension": ".py",
   "mimetype": "text/x-python",
   "name": "python",
   "nbconvert_exporter": "python",
   "pygments_lexer": "ipython3",
   "version": "3.4.3"
  }
 },
 "nbformat": 4,
 "nbformat_minor": 0
}
