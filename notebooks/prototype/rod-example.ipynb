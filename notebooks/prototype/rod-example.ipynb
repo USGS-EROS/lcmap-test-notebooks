{
 "cells": [
  {
   "cell_type": "code",
   "execution_count": 1,
   "metadata": {
    "collapsed": true
   },
   "outputs": [],
   "source": [
    "import pandas as pd\n",
    "import numpy as np\n",
    "import json\n",
    "import lcmap_client"
   ]
  },
  {
   "cell_type": "code",
   "execution_count": 2,
   "metadata": {
    "collapsed": false
   },
   "outputs": [
    {
     "name": "stderr",
     "output_type": "stream",
     "text": [
      "INFO:requests.packages.urllib3.connectionpool:Starting new HTTP connection (1): localhost\n",
      "\u001b[32m2016.02.14 23:28:12.477\u001b[0m \u001b[36m[MainProcess]\u001b[0m \u001b[34mINFO\u001b[0m \u001b[33mrequests.packages.urllib3.connectionpool\u001b[0m - Starting new HTTP connection (1): localhost\n"
     ]
    }
   ],
   "source": [
    "client = lcmap_client.Client()"
   ]
  },
  {
   "cell_type": "code",
   "execution_count": 3,
   "metadata": {
    "collapsed": true
   },
   "outputs": [],
   "source": [
    "spectra_to_bands = {\n",
    "  'blue':[\n",
    "    'LANDSAT_8/OLI_TIRS/sr_band2',\n",
    "    'LANDSAT_7/ETM/sr_band1',\n",
    "    'LANDSAT_5/TM/sr_band1'\n",
    "  ],\n",
    "  'green':[\n",
    "    'LANDSAT_8/OLI_TIRS/sr_band3',\n",
    "    'LANDSAT_7/ETM/sr_band2',\n",
    "    'LANDSAT_5/TM/sr_band2'\n",
    "  ],\n",
    "  'red':[\n",
    "    'LANDSAT_8/OLI_TIRS/sr_band4',\n",
    "    'LANDSAT_7/ETM/sr_band3',\n",
    "    'LANDSAT_5/TM/sr_band3'\n",
    "  ],\n",
    "  'ir':[\n",
    "    'LANDSAT_8/OLI_TIRS/sr_band5',\n",
    "    'LANDSAT_7/ETM/sr_band4',\n",
    "    'LANDSAT_5/TM/sr_band4'    \n",
    "  ],\n",
    "  'swir-1':[\n",
    "    'LANDSAT_8/OLI_TIRS/sr_band6',\n",
    "    'LANDSAT_7/ETM/sr_band5',\n",
    "    'LANDSAT_5/TM/sr_band5'\n",
    "  ],\n",
    "  'swir-2':[\n",
    "    'LANDSAT_8/OLI_TIRS/sr_band7',\n",
    "    'LANDSAT_7/ETM/sr_band7',\n",
    "    'LANDSAT_5/TM/sr_band7'\n",
    "  ],\n",
    "  'tirs-1':[\n",
    "    'LANDSAT_8/OLI_TIRS/toa_band10',\n",
    "    'LANDSAT_7/ETM/toa_band6',\n",
    "    'LANDSAT_5/TM/toa_band6'\n",
    "  ],\n",
    "  'cf':[\n",
    "    'LANDSAT_8/OLI_TIRS/cfmask',\n",
    "    'LANDSAT_7/ETM/cfmask',\n",
    "    'LANDSAT_5/TM/cfmask'\n",
    "  ]\n",
    "};"
   ]
  },
  {
   "cell_type": "code",
   "execution_count": 4,
   "metadata": {
    "collapsed": true
   },
   "outputs": [],
   "source": [
    "x = -1789425\n",
    "y = 3073665\n",
    "t1 = '2010-01-01'\n",
    "t2 = '2015-01-01'\n",
    "spectra = ['red','green','blue','cf']"
   ]
  },
  {
   "cell_type": "code",
   "execution_count": 5,
   "metadata": {
    "collapsed": false
   },
   "outputs": [
    {
     "ename": "AttributeError",
     "evalue": "'SurfaceReflectance' object has no attribute 'rod'",
     "output_type": "error",
     "traceback": [
      "\u001b[1;31m---------------------------------------------------------------------------\u001b[0m",
      "\u001b[1;31mAttributeError\u001b[0m                            Traceback (most recent call last)",
      "\u001b[1;32m<ipython-input-5-29c7f0a2962c>\u001b[0m in \u001b[0;36m<module>\u001b[1;34m()\u001b[0m\n\u001b[0;32m      2\u001b[0m \u001b[1;32mfor\u001b[0m \u001b[0ms\u001b[0m \u001b[1;32min\u001b[0m \u001b[0mspectra\u001b[0m\u001b[1;33m:\u001b[0m\u001b[1;33m\u001b[0m\u001b[0m\n\u001b[0;32m      3\u001b[0m     \u001b[1;32mfor\u001b[0m \u001b[0mb\u001b[0m \u001b[1;32min\u001b[0m \u001b[0mspectra_to_bands\u001b[0m\u001b[1;33m.\u001b[0m\u001b[0mget\u001b[0m\u001b[1;33m(\u001b[0m\u001b[0ms\u001b[0m\u001b[1;33m)\u001b[0m\u001b[1;33m:\u001b[0m\u001b[1;33m\u001b[0m\u001b[0m\n\u001b[1;32m----> 4\u001b[1;33m         \u001b[0mspec\u001b[0m\u001b[1;33m,\u001b[0m \u001b[0mrod\u001b[0m \u001b[1;33m=\u001b[0m \u001b[0mclient\u001b[0m\u001b[1;33m.\u001b[0m\u001b[0mdata\u001b[0m\u001b[1;33m.\u001b[0m\u001b[0msurface_reflectance\u001b[0m\u001b[1;33m.\u001b[0m\u001b[0mrod\u001b[0m\u001b[1;33m(\u001b[0m\u001b[0mb\u001b[0m\u001b[1;33m,\u001b[0m \u001b[0mx\u001b[0m\u001b[1;33m,\u001b[0m \u001b[0my\u001b[0m\u001b[1;33m,\u001b[0m \u001b[0mt1\u001b[0m\u001b[1;33m,\u001b[0m \u001b[0mt2\u001b[0m\u001b[1;33m)\u001b[0m\u001b[1;33m\u001b[0m\u001b[0m\n\u001b[0m\u001b[0;32m      5\u001b[0m         \u001b[1;32mfor\u001b[0m \u001b[0mr\u001b[0m \u001b[1;32min\u001b[0m \u001b[0mrod\u001b[0m\u001b[1;33m:\u001b[0m\u001b[1;33m\u001b[0m\u001b[0m\n\u001b[0;32m      6\u001b[0m             \u001b[0mr\u001b[0m\u001b[1;33m[\u001b[0m\u001b[1;34m'spectrum'\u001b[0m\u001b[1;33m]\u001b[0m \u001b[1;33m=\u001b[0m \u001b[0ms\u001b[0m\u001b[1;33m\u001b[0m\u001b[0m\n",
      "\u001b[1;31mAttributeError\u001b[0m: 'SurfaceReflectance' object has no attribute 'rod'"
     ]
    }
   ],
   "source": [
    "result = []\n",
    "for s in spectra:\n",
    "    for b in spectra_to_bands.get(s):\n",
    "        spec, rod = client.data.surface_reflectance.rod(b, x, y, t1, t2)\n",
    "        for r in rod:\n",
    "            r['spectrum'] = s\n",
    "        result.extend(rod)"
   ]
  },
  {
   "cell_type": "code",
   "execution_count": null,
   "metadata": {
    "collapsed": false
   },
   "outputs": [],
   "source": [
    "df = pd.DataFrame(result)"
   ]
  },
  {
   "cell_type": "code",
   "execution_count": null,
   "metadata": {
    "collapsed": false
   },
   "outputs": [],
   "source": [
    "pdf = df.pivot(index='source',columns='spectrum')"
   ]
  },
  {
   "cell_type": "code",
   "execution_count": null,
   "metadata": {
    "collapsed": false
   },
   "outputs": [],
   "source": [
    "adf = pdf['acquired'].iloc[:,0]\n",
    "vdf = pdf['value'].loc[:,('blue','green','red','cf',)]"
   ]
  }
 ],
 "metadata": {
  "kernelspec": {
   "display_name": "Python 3",
   "language": "python",
   "name": "python3"
  },
  "language_info": {
   "codemirror_mode": {
    "name": "ipython",
    "version": 3
   },
   "file_extension": ".py",
   "mimetype": "text/x-python",
   "name": "python",
   "nbconvert_exporter": "python",
   "pygments_lexer": "ipython3",
   "version": "3.4.3"
  }
 },
 "nbformat": 4,
 "nbformat_minor": 0
}
