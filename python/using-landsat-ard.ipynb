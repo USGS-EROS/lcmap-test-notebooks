{
 "cells": [
  {
   "cell_type": "markdown",
   "metadata": {
    "collapsed": true
   },
   "source": [
    "# Using Landsat ARD\n",
    "\n",
    "This notebook demonstrates how to retrieve and use Landsat ARD. _It is a work in progress!_"
   ]
  },
  {
   "cell_type": "markdown",
   "metadata": {},
   "source": [
    "## The Python LCMAP Client\n",
    "\n",
    "To use the client, import the `lcmap_client` module and instantiate a client object. The client uses a configuration file in your home directory `~/.usgs/lcmap.ini` to locate the LCMAP REST API."
   ]
  },
  {
   "cell_type": "code",
   "execution_count": 1,
   "metadata": {
    "collapsed": false
   },
   "outputs": [],
   "source": [
    "from lcmap_client import Client\n",
    "client = Client();"
   ]
  },
  {
   "cell_type": "markdown",
   "metadata": {},
   "source": [
    "## Finding Tiles\n",
    "\n",
    "Finding tiles requires a universal band identifier (UBID), a point, and a time interval. This will return a pair of values: a tile specification and a list of tiles.\n",
    "\n",
    "* A UBID is a combination of mission, sensor, and band short name.\n",
    "* X and Y values are in terms of projection system coordinates.\n",
    "* Times are specified as ISO-8601 dates.\n",
    "\n",
    "In the future, changes will be made to support a variety parameter types to make usage more convenient."
   ]
  },
  {
   "cell_type": "code",
   "execution_count": 3,
   "metadata": {
    "collapsed": false
   },
   "outputs": [],
   "source": [
    "ubid = \"LANDSAT_5/TM/sr_band1\"\n",
    "x, y = -2096625, 3095025\n",
    "t1, t2 = '1985-01-01', '1985-02-01'\n",
    "spec, tiles = client.data.surface_reflectance.tiles(ubid, x, y, t1, t2)"
   ]
  },
  {
   "cell_type": "markdown",
   "metadata": {},
   "source": [
    "Let's examine the first tile and see how to retrieve a pixel value."
   ]
  },
  {
   "cell_type": "code",
   "execution_count": 4,
   "metadata": {
    "collapsed": true
   },
   "outputs": [],
   "source": [
    "tile = tiles[0]"
   ]
  },
  {
   "cell_type": "markdown",
   "metadata": {},
   "source": [
    "Each tile has a data property that can be used to access and, masked, scaled, and shaped set of values."
   ]
  },
  {
   "cell_type": "code",
   "execution_count": 5,
   "metadata": {
    "collapsed": false
   },
   "outputs": [
    {
     "data": {
      "text/plain": [
       "0.25019999367941637"
      ]
     },
     "execution_count": 5,
     "metadata": {},
     "output_type": "execute_result"
    }
   ],
   "source": [
    "tile.data[0,0]"
   ]
  },
  {
   "cell_type": "markdown",
   "metadata": {},
   "source": [
    "You may also get data values in terms of the projection system coordinates. This is much more convenient than calculating the raster grid projection coordinate containing a point in the projection system on your own."
   ]
  },
  {
   "cell_type": "code",
   "execution_count": 6,
   "metadata": {
    "collapsed": false
   },
   "outputs": [
    {
     "data": {
      "text/plain": [
       "0.25019999367941637"
      ]
     },
     "execution_count": 6,
     "metadata": {},
     "output_type": "execute_result"
    }
   ],
   "source": [
    "tiles[0][-2096625, 3095025]"
   ]
  },
  {
   "cell_type": "markdown",
   "metadata": {},
   "source": [
    "Notice that the point you specify can be \"off\" the implicit grid, here we move east/south by two meters. These values are _snapped_ to the nearest point."
   ]
  },
  {
   "cell_type": "code",
   "execution_count": 7,
   "metadata": {
    "collapsed": false
   },
   "outputs": [
    {
     "data": {
      "text/plain": [
       "0.25019999367941637"
      ]
     },
     "execution_count": 7,
     "metadata": {},
     "output_type": "execute_result"
    }
   ],
   "source": [
    "tiles[0][-2096625+2, 3095025-2]"
   ]
  },
  {
   "cell_type": "markdown",
   "metadata": {},
   "source": [
    "If you needed, you can also get the acquisition date and scene ID of each tile."
   ]
  },
  {
   "cell_type": "code",
   "execution_count": 9,
   "metadata": {
    "collapsed": false
   },
   "outputs": [
    {
     "data": {
      "text/plain": [
       "[('1985-01-02T06:00:00Z', 'LT50470271985002XXX03'),\n",
       " ('1985-01-09T06:00:00Z', 'LT50480271985009PAC00'),\n",
       " ('1985-01-18T06:00:00Z', 'LT50470271985018XXX03'),\n",
       " ('1985-01-25T06:00:00Z', 'LT50480271985025PAC00')]"
      ]
     },
     "execution_count": 9,
     "metadata": {},
     "output_type": "execute_result"
    }
   ],
   "source": [
    "[(t.acquired, t.source) for t in tiles]"
   ]
  },
  {
   "cell_type": "markdown",
   "metadata": {},
   "source": [
    "## Creating an Image\n",
    "\n",
    "The client currently provides very basic functionality. If you want to render a larger image you can define a simple function to get tiles for a wider area and multiple bands. Note, this function omits the returned specs because we don't have a use for the information they contain."
   ]
  },
  {
   "cell_type": "code",
   "execution_count": 14,
   "metadata": {
    "collapsed": true
   },
   "outputs": [],
   "source": [
    "def get_tiles(bands, x1, y1, x2, y2, t1, t2):\n",
    "    xs = range(x1, x2,  256*30)\n",
    "    ys = range(y1, y2, -256*30)\n",
    "    results = []\n",
    "    for band in bands:\n",
    "        for x in xs:\n",
    "            for y in ys:\n",
    "                _, tiles = client.data.surface_reflectance.tiles(band, x, y, t1, t2)\n",
    "                results.append(tiles)\n",
    "    return results"
   ]
  },
  {
   "cell_type": "markdown",
   "metadata": {},
   "source": [
    "Use the `get_tiles` function to retrieve multiple bands of data over a wide area. The returned value is a list-of-lists of tiles."
   ]
  },
  {
   "cell_type": "code",
   "execution_count": 15,
   "metadata": {
    "collapsed": false
   },
   "outputs": [],
   "source": [
    "bands = [\"LANDSAT_5/TM/sr_band3\", \"LANDSAT_5/TM/sr_band2\", \"LANDSAT_5/TM/sr_band1\"]\n",
    "x1, y1 = -2096625, 3095025\n",
    "x2, y2 = -2096625+(256*30)+1, 3095025-(256*30)-1\n",
    "t1, t2 = '1985-01-01', '1985-02-01'\n",
    "tiles = get_tiles(bands, x1, y1, x2, y2, t1, t2)"
   ]
  },
  {
   "cell_type": "markdown",
   "metadata": {},
   "source": [
    "### Melding Tile Data\n",
    "\n",
    "Once we have a list-of-lists, we can meld them into three \"layers\" of data by defining another function. We use `numpy` and `pandas` to create this new data structure."
   ]
  },
  {
   "cell_type": "code",
   "execution_count": 19,
   "metadata": {
    "collapsed": true
   },
   "outputs": [],
   "source": [
    "def meld(ts, ix):\n",
    "    return [tiles[ix] for tiles in ts]"
   ]
  },
  {
   "cell_type": "code",
   "execution_count": 21,
   "metadata": {
    "collapsed": false
   },
   "outputs": [
    {
     "data": {
      "text/plain": [
       "[(-2096625, 3095025, 'LANDSAT_5/TM/sr_band3'),\n",
       " (-2096625, 3087345, 'LANDSAT_5/TM/sr_band3'),\n",
       " (-2088945, 3095025, 'LANDSAT_5/TM/sr_band3'),\n",
       " (-2088945, 3087345, 'LANDSAT_5/TM/sr_band3'),\n",
       " (-2096625, 3095025, 'LANDSAT_5/TM/sr_band2'),\n",
       " (-2096625, 3087345, 'LANDSAT_5/TM/sr_band2'),\n",
       " (-2088945, 3095025, 'LANDSAT_5/TM/sr_band2'),\n",
       " (-2088945, 3087345, 'LANDSAT_5/TM/sr_band2'),\n",
       " (-2096625, 3095025, 'LANDSAT_5/TM/sr_band1'),\n",
       " (-2096625, 3087345, 'LANDSAT_5/TM/sr_band1'),\n",
       " (-2088945, 3095025, 'LANDSAT_5/TM/sr_band1'),\n",
       " (-2088945, 3087345, 'LANDSAT_5/TM/sr_band1')]"
      ]
     },
     "execution_count": 21,
     "metadata": {},
     "output_type": "execute_result"
    }
   ],
   "source": [
    "[(t.x,t.y,t.ubid) for t in meld(tiles, 0)]"
   ]
  },
  {
   "cell_type": "code",
   "execution_count": 26,
   "metadata": {
    "collapsed": false
   },
   "outputs": [],
   "source": [
    "rgb = meld(tiles, 0)"
   ]
  },
  {
   "cell_type": "markdown",
   "metadata": {},
   "source": [
    "### Rendering an Image"
   ]
  },
  {
   "cell_type": "markdown",
   "metadata": {},
   "source": [
    "In order to render an image, we use `matplotlob` and `skimage` -- the latter has a function for color correcting images."
   ]
  },
  {
   "cell_type": "code",
   "execution_count": null,
   "metadata": {
    "collapsed": true
   },
   "outputs": [],
   "source": [
    "import matplotlib.pyplot as plt\n",
    "import matplotlib.colors as mc\n",
    "import matplotlib.cm as cm\n",
    "import skimage.exposure as ex\n",
    "%matplotlib inline"
   ]
  },
  {
   "cell_type": "code",
   "execution_count": null,
   "metadata": {
    "collapsed": false,
    "scrolled": true
   },
   "outputs": [],
   "source": [
    "n = mc.Normalize(0.0, 1.0, clip=True)\n",
    "rgb_ah = ex.equalize_adapthist(n(rgb), clip_limit=0.05)\n",
    "fig = plt.figure(figsize=(8,8))\n",
    "plt.axis('off')\n",
    "plt.imshow(rgb_ah, interpolation='nearest')"
   ]
  },
  {
   "cell_type": "code",
   "execution_count": null,
   "metadata": {
    "collapsed": true
   },
   "outputs": [],
   "source": []
  }
 ],
 "metadata": {
  "kernelspec": {
   "display_name": "Python 3",
   "language": "python",
   "name": "python3"
  },
  "language_info": {
   "codemirror_mode": {
    "name": "ipython",
    "version": 3
   },
   "file_extension": ".py",
   "mimetype": "text/x-python",
   "name": "python",
   "nbconvert_exporter": "python",
   "pygments_lexer": "ipython3",
   "version": "3.4.4"
  }
 },
 "nbformat": 4,
 "nbformat_minor": 0
}
