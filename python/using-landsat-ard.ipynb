{
 "cells": [
  {
   "cell_type": "markdown",
   "metadata": {
    "collapsed": true
   },
   "source": [
    "# Using Landsat ARD\n",
    "\n",
    "This notebook demonstrates how to retrieve and use Landsat ARD. _It is a work in progress!_"
   ]
  },
  {
   "cell_type": "markdown",
   "metadata": {},
   "source": [
    "## The Python LCMAP Client\n",
    "\n",
    "To use the client, import the `lcmap_client` module and instantiate a client object. The client uses a configuration file in your home directory `~/.usgs/lcmap.ini` to locate the LCMAP REST API."
   ]
  },
  {
   "cell_type": "code",
   "execution_count": null,
   "metadata": {
    "collapsed": false
   },
   "outputs": [],
   "source": [
    "from lcmap.client import Client\n",
    "client = Client();"
   ]
  },
  {
   "cell_type": "markdown",
   "metadata": {},
   "source": [
    "## Finding Tiles\n",
    "\n",
    "Finding tiles requires a universal band identifier (UBID), a point, and a time interval. This will return a pair of values: a tile specification and a list of tiles.\n",
    "\n",
    "* A UBID is a combination of mission, sensor, and band short name.\n",
    "* X and Y values are in terms of projection system coordinates.\n",
    "* Times are specified as ISO-8601 dates.\n",
    "\n",
    "In the future, changes will be made to support a variety parameter types to make usage more convenient."
   ]
  },
  {
   "cell_type": "code",
   "execution_count": null,
   "metadata": {
    "collapsed": false
   },
   "outputs": [],
   "source": [
    "ubid = \"LANDSAT_5/TM/sr_band1\"\n",
    "x, y = -2096625, 3095025\n",
    "t1, t2 = '1985-01-01', '1985-05-01'\n",
    "spec, tiles = client.data.surface_reflectance.tiles(ubid, x, y, t1, t2)"
   ]
  },
  {
   "cell_type": "markdown",
   "metadata": {},
   "source": [
    "Let's examine the first tile and see how to retrieve a pixel value."
   ]
  },
  {
   "cell_type": "code",
   "execution_count": null,
   "metadata": {
    "collapsed": true
   },
   "outputs": [],
   "source": [
    "tile = tiles[0]"
   ]
  },
  {
   "cell_type": "markdown",
   "metadata": {},
   "source": [
    "Each tile has a data property that can be used to access and, masked, scaled, and shaped set of values."
   ]
  },
  {
   "cell_type": "code",
   "execution_count": null,
   "metadata": {
    "collapsed": false
   },
   "outputs": [],
   "source": [
    "tile.data[0,0]"
   ]
  },
  {
   "cell_type": "markdown",
   "metadata": {},
   "source": [
    "You may also get data values in terms of the projection system coordinates. This is much more convenient than calculating the raster grid projection coordinate containing a point in the projection system on your own."
   ]
  },
  {
   "cell_type": "code",
   "execution_count": null,
   "metadata": {
    "collapsed": false
   },
   "outputs": [],
   "source": [
    "tiles[0][-2096625, 3095025]"
   ]
  },
  {
   "cell_type": "markdown",
   "metadata": {},
   "source": [
    "Notice that the point you specify can be \"off\" the implicit grid, here we move east/south by two meters. These values are _snapped_ to the nearest point."
   ]
  },
  {
   "cell_type": "code",
   "execution_count": null,
   "metadata": {
    "collapsed": false
   },
   "outputs": [],
   "source": [
    "tiles[0][-2096625+2, 3095025-2]"
   ]
  },
  {
   "cell_type": "markdown",
   "metadata": {},
   "source": [
    "If you needed, you can also get the acquisition date and scene ID of each tile."
   ]
  },
  {
   "cell_type": "code",
   "execution_count": null,
   "metadata": {
    "collapsed": false
   },
   "outputs": [],
   "source": [
    "[(t.acquired, t.source) for t in tiles]"
   ]
  },
  {
   "cell_type": "markdown",
   "metadata": {},
   "source": [
    "## Creating an Image\n",
    "\n",
    "The client currently provides very basic functionality. If you want to render a larger image you can define a simple function to get tiles for a wider area and multiple bands. Note, this function omits the returned specs because we don't have a use for the information they contain."
   ]
  },
  {
   "cell_type": "code",
   "execution_count": null,
   "metadata": {
    "collapsed": true
   },
   "outputs": [],
   "source": [
    "def get_tiles(bands, x1, y1, x2, y2, t1, t2):\n",
    "    xs = range(x1, x2,  256*30)\n",
    "    ys = range(y1, y2, -256*30)\n",
    "    results = []\n",
    "    for band in bands:\n",
    "        for x in xs:\n",
    "            for y in ys:\n",
    "                _, tiles = client.data.surface_reflectance.tiles(band, x, y, t1, t2)\n",
    "                results.append(tiles)\n",
    "    return results"
   ]
  },
  {
   "cell_type": "markdown",
   "metadata": {},
   "source": [
    "Use the `get_tiles` function to retrieve multiple bands of data over a wide area. The returned value is a list-of-lists of tiles."
   ]
  },
  {
   "cell_type": "code",
   "execution_count": null,
   "metadata": {
    "collapsed": false
   },
   "outputs": [],
   "source": [
    "bands = [\"LANDSAT_5/TM/sr_band3\", \"LANDSAT_5/TM/sr_band2\", \"LANDSAT_5/TM/sr_band1\"]\n",
    "x1, y1 = -2096625, 3095025\n",
    "x2, y2 = -2096625+(256*30*2)+1, 3095025-(256*30*2)-1\n",
    "t1, t2 = '1985-06-01', '1985-09-01'\n",
    "tiles = get_tiles(bands, x1, y1, x2, y2, t1, t2)"
   ]
  },
  {
   "cell_type": "markdown",
   "metadata": {},
   "source": [
    "### Melding Tile Data\n",
    "\n",
    "Once we have a list-of-lists, we can meld them into three \"layers\" of data by defining another function. We use `numpy` and `pandas` to create this new data structure."
   ]
  },
  {
   "cell_type": "code",
   "execution_count": null,
   "metadata": {
    "collapsed": false
   },
   "outputs": [],
   "source": [
    "import numpy as np\n",
    "from itertools import groupby\n",
    "\n",
    "def meld(ts, ix):\n",
    "    ts = [t[ix] for t in ts]\n",
    "    bands = []\n",
    "    for band, by_band in groupby(ts, key=lambda t: t.ubid):\n",
    "        rows = []\n",
    "        foo = sorted(by_band, key=lambda t: t.y, reverse=True)\n",
    "        for x, by_row in groupby(foo, key=lambda t: t.y):\n",
    "            bar = sorted(by_row, key=lambda t: t.x)\n",
    "            data = [t.data for t in bar]\n",
    "            rows.append(np.hstack(data))\n",
    "        bands.append(np.vstack(rows))\n",
    "    return np.dstack(bands)"
   ]
  },
  {
   "cell_type": "markdown",
   "metadata": {},
   "source": [
    "### Rendering an Image"
   ]
  },
  {
   "cell_type": "markdown",
   "metadata": {},
   "source": [
    "In order to render an image, we use `matplotlob` and `skimage` -- the latter has a function for color correcting images."
   ]
  },
  {
   "cell_type": "code",
   "execution_count": null,
   "metadata": {
    "collapsed": true
   },
   "outputs": [],
   "source": [
    "import matplotlib.pyplot as plt\n",
    "import matplotlib.colors as mc\n",
    "import matplotlib.cm as cm\n",
    "import matplotlib.dates as mdates\n",
    "import skimage.exposure as ex\n",
    "import seaborn as sns\n",
    "%matplotlib inline"
   ]
  },
  {
   "cell_type": "code",
   "execution_count": null,
   "metadata": {
    "collapsed": false,
    "scrolled": true
   },
   "outputs": [],
   "source": [
    "for i in range(0,5):\n",
    "    rgb = meld(tiles, i)\n",
    "    norm = mc.Normalize(0.0, 1.0, clip=True)\n",
    "    rgb_ah = ex.equalize_adapthist(norm(rgb), clip_limit=0.05)\n",
    "    fig = plt.figure(figsize=(12,12))\n",
    "    plt.axis('off')\n",
    "    plt.imshow(rgb_ah, interpolation='nearest')"
   ]
  },
  {
   "cell_type": "markdown",
   "metadata": {},
   "source": [
    "## Plotting a Time Series"
   ]
  },
  {
   "cell_type": "code",
   "execution_count": null,
   "metadata": {
    "collapsed": false
   },
   "outputs": [],
   "source": [
    "x, y = -2096625, 3095025\n",
    "t1, t2 = '1985-01-01', '1987-01-01'\n",
    "_, it = client.data.surface_reflectance.tiles(\"LANDSAT_5/TM/sr_band4\", x, y, t1, t2)\n",
    "_, rt = client.data.surface_reflectance.tiles(\"LANDSAT_5/TM/sr_band3\", x, y, t1, t2)\n",
    "_, gt = client.data.surface_reflectance.tiles(\"LANDSAT_5/TM/sr_band2\", x, y, t1, t2)\n",
    "_, bt = client.data.surface_reflectance.tiles(\"LANDSAT_5/TM/sr_band1\", x, y, t1, t2)"
   ]
  },
  {
   "cell_type": "code",
   "execution_count": null,
   "metadata": {
    "collapsed": false
   },
   "outputs": [],
   "source": [
    "r1 = [t.data[0,0] for t in rt]\n",
    "g1 = [t.data[0,0] for t in gt]\n",
    "b1 = [t.data[0,0] for t in bt]"
   ]
  },
  {
   "cell_type": "code",
   "execution_count": null,
   "metadata": {
    "collapsed": false
   },
   "outputs": [],
   "source": [
    "fig = plt.figure(figsize=(12, 7.5))\n",
    "ax = fig.add_subplot(111)\n",
    "ax.plot(r1, '.', g1, '.', b1, '.')\n",
    "plt.show()"
   ]
  },
  {
   "cell_type": "code",
   "execution_count": null,
   "metadata": {
    "collapsed": false
   },
   "outputs": [],
   "source": []
  },
  {
   "cell_type": "markdown",
   "metadata": {},
   "source": [
    "## Calculating NDVI"
   ]
  },
  {
   "cell_type": "code",
   "execution_count": null,
   "metadata": {
    "collapsed": false
   },
   "outputs": [],
   "source": [
    "ix = 4\n",
    "red, ir = rt[ix].data, it[ix].data\n",
    "ndvi = (ir-red)/(ir+red)\n",
    "\n",
    "fig = plt.figure(figsize=(16,4))\n",
    "s1 = fig.add_subplot(1,3,1)\n",
    "s1.axis('off')\n",
    "s2 = fig.add_subplot(1,3,2)\n",
    "s2.axis('off')\n",
    "s3 = fig.add_subplot(1,3,3)\n",
    "s3.axis('off')\n",
    "\n",
    "s1.imshow(ndvi, cmap='Greens')\n",
    "s1.set_title(\"NDVI\")\n",
    "s2.imshow(red, cmap='Reds')\n",
    "s2.set_title(\"Red\")\n",
    "s3.imshow(ir, cmap='plasma')\n",
    "s3.set_title(\"IR\")"
   ]
  },
  {
   "cell_type": "code",
   "execution_count": null,
   "metadata": {
    "collapsed": true
   },
   "outputs": [],
   "source": []
  }
 ],
 "metadata": {
  "kernelspec": {
   "display_name": "Python 3",
   "language": "python",
   "name": "python3"
  },
  "language_info": {
   "codemirror_mode": {
    "name": "ipython",
    "version": 3
   },
   "file_extension": ".py",
   "mimetype": "text/x-python",
   "name": "python",
   "nbconvert_exporter": "python",
   "pygments_lexer": "ipython3",
   "version": "3.4.4"
  }
 },
 "nbformat": 4,
 "nbformat_minor": 0
}
